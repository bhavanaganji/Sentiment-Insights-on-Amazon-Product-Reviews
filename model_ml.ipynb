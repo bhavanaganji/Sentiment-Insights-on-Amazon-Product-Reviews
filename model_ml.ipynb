{
  "cells": [
    {
      "cell_type": "code",
      "execution_count": 1,
      "metadata": {
        "colab": {
          "base_uri": "https://localhost:8080/"
        },
        "id": "fq1lZWO8VsDu",
        "outputId": "07d1f66a-f5a7-4991-cf4e-68c018fb1406"
      },
      "outputs": [
        {
          "name": "stderr",
          "output_type": "stream",
          "text": [
            "[nltk_data] Downloading package stopwords to\n",
            "[nltk_data]     C:\\Users\\DELL\\AppData\\Roaming\\nltk_data...\n",
            "[nltk_data]   Package stopwords is already up-to-date!\n",
            "[nltk_data] Downloading package punkt to\n",
            "[nltk_data]     C:\\Users\\DELL\\AppData\\Roaming\\nltk_data...\n",
            "[nltk_data]   Package punkt is already up-to-date!\n",
            "[nltk_data] Downloading package wordnet to\n",
            "[nltk_data]     C:\\Users\\DELL\\AppData\\Roaming\\nltk_data...\n",
            "[nltk_data]   Package wordnet is already up-to-date!\n",
            "[nltk_data] Downloading package omw-1.4 to\n",
            "[nltk_data]     C:\\Users\\DELL\\AppData\\Roaming\\nltk_data...\n",
            "[nltk_data]   Package omw-1.4 is already up-to-date!\n"
          ]
        },
        {
          "data": {
            "text/plain": [
              "True"
            ]
          },
          "execution_count": 1,
          "metadata": {},
          "output_type": "execute_result"
        }
      ],
      "source": [
        "import numpy as np # linear algebra\n",
        "import pandas as pd # data processing, CSV file I/O (e.g. pd.read_csv)\n",
        "import matplotlib.pyplot as plt\n",
        "import string\n",
        "import re\n",
        "import nltk\n",
        "nltk.download('stopwords')\n",
        "from nltk.corpus import stopwords\n",
        "stop_words = stopwords.words('english')\n",
        "nltk.download('punkt')\n",
        "nltk.download('wordnet')\n",
        "nltk.download('omw-1.4')"
      ]
    },
    {
      "cell_type": "code",
      "execution_count": 2,
      "metadata": {
        "id": "-dLe2ZMwW0fo"
      },
      "outputs": [],
      "source": [
        "df = pd.read_csv(r'C:\\Users\\DELL\\Downloads\\Sentiment-Analysis-for-Product-Review-using-Machine-Learning-and-Deep-Learning--main\\Sentiment-Analysis-for-Product-Review-using-Machine-Learning-and-Deep-Learning--main\\Amazon_Product_Clothing_Shoes_and_Jewelry.csv')"
      ]
    },
    {
      "cell_type": "code",
      "execution_count": 3,
      "metadata": {
        "colab": {
          "base_uri": "https://localhost:8080/"
        },
        "id": "FIZFmTdDSBVc",
        "outputId": "80ad5a66-34b6-4e97-9457-b80b9c672e72"
      },
      "outputs": [
        {
          "name": "stdout",
          "output_type": "stream",
          "text": [
            "<class 'pandas.core.frame.DataFrame'>\n",
            "RangeIndex: 55000 entries, 0 to 54999\n",
            "Data columns (total 5 columns):\n",
            " #   Column               Non-Null Count  Dtype  \n",
            "---  ------               --------------  -----  \n",
            " 0   Unnamed: 0.1         55000 non-null  int64  \n",
            " 1   Unnamed: 0           55000 non-null  int64  \n",
            " 2   Customer_reviewText  55000 non-null  object \n",
            " 3   Unnamed: 3           0 non-null      float64\n",
            " 4   Unnamed: 4           2 non-null      object \n",
            "dtypes: float64(1), int64(2), object(2)\n",
            "memory usage: 2.1+ MB\n"
          ]
        }
      ],
      "source": [
        "df.info()"
      ]
    },
    {
      "cell_type": "code",
      "execution_count": 4,
      "metadata": {
        "colab": {
          "base_uri": "https://localhost:8080/"
        },
        "id": "D0Vxs3E4SUg1",
        "outputId": "ccc91a12-5c00-4a9d-f481-b5c4f6a59f29"
      },
      "outputs": [
        {
          "data": {
            "text/plain": [
              "(55000, 5)"
            ]
          },
          "execution_count": 4,
          "metadata": {},
          "output_type": "execute_result"
        }
      ],
      "source": [
        "df.shape"
      ]
    },
    {
      "cell_type": "code",
      "execution_count": 5,
      "metadata": {
        "colab": {
          "base_uri": "https://localhost:8080/",
          "height": 206
        },
        "id": "on8pA6kqaTWB",
        "outputId": "27fb08bc-3f50-4f0e-de9e-7e8f3e161089"
      },
      "outputs": [
        {
          "data": {
            "text/html": [
              "<div>\n",
              "<style scoped>\n",
              "    .dataframe tbody tr th:only-of-type {\n",
              "        vertical-align: middle;\n",
              "    }\n",
              "\n",
              "    .dataframe tbody tr th {\n",
              "        vertical-align: top;\n",
              "    }\n",
              "\n",
              "    .dataframe thead th {\n",
              "        text-align: right;\n",
              "    }\n",
              "</style>\n",
              "<table border=\"1\" class=\"dataframe\">\n",
              "  <thead>\n",
              "    <tr style=\"text-align: right;\">\n",
              "      <th></th>\n",
              "      <th>Unnamed: 0.1</th>\n",
              "      <th>Unnamed: 0</th>\n",
              "      <th>Customer_reviewText</th>\n",
              "      <th>Unnamed: 3</th>\n",
              "      <th>Unnamed: 4</th>\n",
              "    </tr>\n",
              "  </thead>\n",
              "  <tbody>\n",
              "    <tr>\n",
              "      <th>0</th>\n",
              "      <td>65000</td>\n",
              "      <td>65000</td>\n",
              "      <td>\"fits great but not too hot and bulky so it...</td>\n",
              "      <td>NaN</td>\n",
              "      <td>NaN</td>\n",
              "    </tr>\n",
              "    <tr>\n",
              "      <th>1</th>\n",
              "      <td>65001</td>\n",
              "      <td>65001</td>\n",
              "      <td>\"great lounge set!  i now own both colors a...</td>\n",
              "      <td>NaN</td>\n",
              "      <td>NaN</td>\n",
              "    </tr>\n",
              "    <tr>\n",
              "      <th>2</th>\n",
              "      <td>65002</td>\n",
              "      <td>65002</td>\n",
              "      <td>\"i ordered both colors and i am in love wit...</td>\n",
              "      <td>NaN</td>\n",
              "      <td>NaN</td>\n",
              "    </tr>\n",
              "    <tr>\n",
              "      <th>3</th>\n",
              "      <td>65003</td>\n",
              "      <td>65003</td>\n",
              "      <td>\"i purchased these for myself and was so ha...</td>\n",
              "      <td>NaN</td>\n",
              "      <td>NaN</td>\n",
              "    </tr>\n",
              "    <tr>\n",
              "      <th>4</th>\n",
              "      <td>65004</td>\n",
              "      <td>65004</td>\n",
              "      <td>\"i bought this for my son-in-law.  he put i...</td>\n",
              "      <td>NaN</td>\n",
              "      <td>NaN</td>\n",
              "    </tr>\n",
              "  </tbody>\n",
              "</table>\n",
              "</div>"
            ],
            "text/plain": [
              "   Unnamed: 0.1  Unnamed: 0  \\\n",
              "0         65000       65000   \n",
              "1         65001       65001   \n",
              "2         65002       65002   \n",
              "3         65003       65003   \n",
              "4         65004       65004   \n",
              "\n",
              "                                 Customer_reviewText  Unnamed: 3 Unnamed: 4  \n",
              "0     \"fits great but not too hot and bulky so it...         NaN        NaN  \n",
              "1     \"great lounge set!  i now own both colors a...         NaN        NaN  \n",
              "2     \"i ordered both colors and i am in love wit...         NaN        NaN  \n",
              "3     \"i purchased these for myself and was so ha...         NaN        NaN  \n",
              "4     \"i bought this for my son-in-law.  he put i...         NaN        NaN  "
            ]
          },
          "execution_count": 5,
          "metadata": {},
          "output_type": "execute_result"
        }
      ],
      "source": [
        "df.head()\n"
      ]
    },
    {
      "cell_type": "code",
      "execution_count": 6,
      "metadata": {
        "colab": {
          "base_uri": "https://localhost:8080/"
        },
        "id": "JoFzyuQHVu59",
        "outputId": "1b41d42f-fa80-41e2-f073-d3fbcacb0132"
      },
      "outputs": [
        {
          "data": {
            "text/plain": [
              "Unnamed: 0.1             int64\n",
              "Unnamed: 0               int64\n",
              "Customer_reviewText     object\n",
              "Unnamed: 3             float64\n",
              "Unnamed: 4              object\n",
              "dtype: object"
            ]
          },
          "execution_count": 6,
          "metadata": {},
          "output_type": "execute_result"
        }
      ],
      "source": [
        "#convert to string\n",
        "df['Customer_reviewText'] = df['Customer_reviewText'].astype(str) \n",
        "df.dtypes"
      ]
    },
    {
      "cell_type": "code",
      "execution_count": 7,
      "metadata": {
        "colab": {
          "base_uri": "https://localhost:8080/"
        },
        "id": "RwJGt2ldqLD6",
        "outputId": "c07778a8-a159-4a8e-82ff-07fe236fee89"
      },
      "outputs": [
        {
          "data": {
            "text/plain": [
              "Unnamed: 0.1               0\n",
              "Unnamed: 0                 0\n",
              "Customer_reviewText        0\n",
              "Unnamed: 3             55000\n",
              "Unnamed: 4             54998\n",
              "dtype: int64"
            ]
          },
          "execution_count": 7,
          "metadata": {},
          "output_type": "execute_result"
        }
      ],
      "source": [
        "df.isnull().sum()"
      ]
    },
    {
      "cell_type": "code",
      "execution_count": 8,
      "metadata": {
        "colab": {
          "base_uri": "https://localhost:8080/",
          "height": 424
        },
        "id": "-CgKRyQ5zZBa",
        "outputId": "bc93fe84-71a3-44a9-c018-e1bb724e1636"
      },
      "outputs": [
        {
          "data": {
            "text/html": [
              "<div>\n",
              "<style scoped>\n",
              "    .dataframe tbody tr th:only-of-type {\n",
              "        vertical-align: middle;\n",
              "    }\n",
              "\n",
              "    .dataframe tbody tr th {\n",
              "        vertical-align: top;\n",
              "    }\n",
              "\n",
              "    .dataframe thead th {\n",
              "        text-align: right;\n",
              "    }\n",
              "</style>\n",
              "<table border=\"1\" class=\"dataframe\">\n",
              "  <thead>\n",
              "    <tr style=\"text-align: right;\">\n",
              "      <th></th>\n",
              "      <th>Unnamed: 0.1</th>\n",
              "      <th>Unnamed: 0</th>\n",
              "      <th>Customer_reviewText</th>\n",
              "      <th>Unnamed: 3</th>\n",
              "      <th>Unnamed: 4</th>\n",
              "    </tr>\n",
              "  </thead>\n",
              "  <tbody>\n",
              "    <tr>\n",
              "      <th>0</th>\n",
              "      <td>65000</td>\n",
              "      <td>65000</td>\n",
              "      <td>\"fits great but not too hot and bulky so it...</td>\n",
              "      <td>NaN</td>\n",
              "      <td>NaN</td>\n",
              "    </tr>\n",
              "    <tr>\n",
              "      <th>1</th>\n",
              "      <td>65001</td>\n",
              "      <td>65001</td>\n",
              "      <td>\"great lounge set!  i now own both colors a...</td>\n",
              "      <td>NaN</td>\n",
              "      <td>NaN</td>\n",
              "    </tr>\n",
              "    <tr>\n",
              "      <th>2</th>\n",
              "      <td>65002</td>\n",
              "      <td>65002</td>\n",
              "      <td>\"i ordered both colors and i am in love wit...</td>\n",
              "      <td>NaN</td>\n",
              "      <td>NaN</td>\n",
              "    </tr>\n",
              "    <tr>\n",
              "      <th>3</th>\n",
              "      <td>65003</td>\n",
              "      <td>65003</td>\n",
              "      <td>\"i purchased these for myself and was so ha...</td>\n",
              "      <td>NaN</td>\n",
              "      <td>NaN</td>\n",
              "    </tr>\n",
              "    <tr>\n",
              "      <th>4</th>\n",
              "      <td>65004</td>\n",
              "      <td>65004</td>\n",
              "      <td>\"i bought this for my son-in-law.  he put i...</td>\n",
              "      <td>NaN</td>\n",
              "      <td>NaN</td>\n",
              "    </tr>\n",
              "    <tr>\n",
              "      <th>...</th>\n",
              "      <td>...</td>\n",
              "      <td>...</td>\n",
              "      <td>...</td>\n",
              "      <td>...</td>\n",
              "      <td>...</td>\n",
              "    </tr>\n",
              "    <tr>\n",
              "      <th>54995</th>\n",
              "      <td>119995</td>\n",
              "      <td>119995</td>\n",
              "      <td>\"absolutely love this robe. looks like it s...</td>\n",
              "      <td>NaN</td>\n",
              "      <td>NaN</td>\n",
              "    </tr>\n",
              "    <tr>\n",
              "      <th>54996</th>\n",
              "      <td>119996</td>\n",
              "      <td>119996</td>\n",
              "      <td>\"this robe fits true to size</td>\n",
              "      <td>NaN</td>\n",
              "      <td>NaN</td>\n",
              "    </tr>\n",
              "    <tr>\n",
              "      <th>54997</th>\n",
              "      <td>119997</td>\n",
              "      <td>119997</td>\n",
              "      <td>\"this is a superior satin men's robe.  grea...</td>\n",
              "      <td>NaN</td>\n",
              "      <td>NaN</td>\n",
              "    </tr>\n",
              "    <tr>\n",
              "      <th>54998</th>\n",
              "      <td>119998</td>\n",
              "      <td>119998</td>\n",
              "      <td>\"this is a great item.  no lining</td>\n",
              "      <td>NaN</td>\n",
              "      <td>NaN</td>\n",
              "    </tr>\n",
              "    <tr>\n",
              "      <th>54999</th>\n",
              "      <td>119999</td>\n",
              "      <td>119999</td>\n",
              "      <td>\"previously i had a silk robe which i liked...</td>\n",
              "      <td>NaN</td>\n",
              "      <td>NaN</td>\n",
              "    </tr>\n",
              "  </tbody>\n",
              "</table>\n",
              "<p>52869 rows × 5 columns</p>\n",
              "</div>"
            ],
            "text/plain": [
              "       Unnamed: 0.1  Unnamed: 0  \\\n",
              "0             65000       65000   \n",
              "1             65001       65001   \n",
              "2             65002       65002   \n",
              "3             65003       65003   \n",
              "4             65004       65004   \n",
              "...             ...         ...   \n",
              "54995        119995      119995   \n",
              "54996        119996      119996   \n",
              "54997        119997      119997   \n",
              "54998        119998      119998   \n",
              "54999        119999      119999   \n",
              "\n",
              "                                     Customer_reviewText  Unnamed: 3  \\\n",
              "0         \"fits great but not too hot and bulky so it...         NaN   \n",
              "1         \"great lounge set!  i now own both colors a...         NaN   \n",
              "2         \"i ordered both colors and i am in love wit...         NaN   \n",
              "3         \"i purchased these for myself and was so ha...         NaN   \n",
              "4         \"i bought this for my son-in-law.  he put i...         NaN   \n",
              "...                                                  ...         ...   \n",
              "54995     \"absolutely love this robe. looks like it s...         NaN   \n",
              "54996                       \"this robe fits true to size         NaN   \n",
              "54997     \"this is a superior satin men's robe.  grea...         NaN   \n",
              "54998                  \"this is a great item.  no lining         NaN   \n",
              "54999     \"previously i had a silk robe which i liked...         NaN   \n",
              "\n",
              "      Unnamed: 4  \n",
              "0            NaN  \n",
              "1            NaN  \n",
              "2            NaN  \n",
              "3            NaN  \n",
              "4            NaN  \n",
              "...          ...  \n",
              "54995        NaN  \n",
              "54996        NaN  \n",
              "54997        NaN  \n",
              "54998        NaN  \n",
              "54999        NaN  \n",
              "\n",
              "[52869 rows x 5 columns]"
            ]
          },
          "execution_count": 8,
          "metadata": {},
          "output_type": "execute_result"
        }
      ],
      "source": [
        "df = df.drop_duplicates(subset=['Customer_reviewText'])\n",
        "df"
      ]
    },
    {
      "cell_type": "code",
      "execution_count": 9,
      "metadata": {
        "colab": {
          "base_uri": "https://localhost:8080/",
          "height": 424
        },
        "id": "dai-8fYnMH5A",
        "outputId": "0c74238d-edd4-4252-c010-8c36dd03fde5"
      },
      "outputs": [
        {
          "data": {
            "text/html": [
              "<div>\n",
              "<style scoped>\n",
              "    .dataframe tbody tr th:only-of-type {\n",
              "        vertical-align: middle;\n",
              "    }\n",
              "\n",
              "    .dataframe tbody tr th {\n",
              "        vertical-align: top;\n",
              "    }\n",
              "\n",
              "    .dataframe thead th {\n",
              "        text-align: right;\n",
              "    }\n",
              "</style>\n",
              "<table border=\"1\" class=\"dataframe\">\n",
              "  <thead>\n",
              "    <tr style=\"text-align: right;\">\n",
              "      <th></th>\n",
              "      <th>Customer_reviewText</th>\n",
              "    </tr>\n",
              "  </thead>\n",
              "  <tbody>\n",
              "    <tr>\n",
              "      <th>0</th>\n",
              "      <td>\"fits great but not too hot and bulky so it...</td>\n",
              "    </tr>\n",
              "    <tr>\n",
              "      <th>1</th>\n",
              "      <td>\"great lounge set!  i now own both colors a...</td>\n",
              "    </tr>\n",
              "    <tr>\n",
              "      <th>2</th>\n",
              "      <td>\"i ordered both colors and i am in love wit...</td>\n",
              "    </tr>\n",
              "    <tr>\n",
              "      <th>3</th>\n",
              "      <td>\"i purchased these for myself and was so ha...</td>\n",
              "    </tr>\n",
              "    <tr>\n",
              "      <th>4</th>\n",
              "      <td>\"i bought this for my son-in-law.  he put i...</td>\n",
              "    </tr>\n",
              "    <tr>\n",
              "      <th>...</th>\n",
              "      <td>...</td>\n",
              "    </tr>\n",
              "    <tr>\n",
              "      <th>54995</th>\n",
              "      <td>\"absolutely love this robe. looks like it s...</td>\n",
              "    </tr>\n",
              "    <tr>\n",
              "      <th>54996</th>\n",
              "      <td>\"this robe fits true to size</td>\n",
              "    </tr>\n",
              "    <tr>\n",
              "      <th>54997</th>\n",
              "      <td>\"this is a superior satin men's robe.  grea...</td>\n",
              "    </tr>\n",
              "    <tr>\n",
              "      <th>54998</th>\n",
              "      <td>\"this is a great item.  no lining</td>\n",
              "    </tr>\n",
              "    <tr>\n",
              "      <th>54999</th>\n",
              "      <td>\"previously i had a silk robe which i liked...</td>\n",
              "    </tr>\n",
              "  </tbody>\n",
              "</table>\n",
              "<p>52869 rows × 1 columns</p>\n",
              "</div>"
            ],
            "text/plain": [
              "                                     Customer_reviewText\n",
              "0         \"fits great but not too hot and bulky so it...\n",
              "1         \"great lounge set!  i now own both colors a...\n",
              "2         \"i ordered both colors and i am in love wit...\n",
              "3         \"i purchased these for myself and was so ha...\n",
              "4         \"i bought this for my son-in-law.  he put i...\n",
              "...                                                  ...\n",
              "54995     \"absolutely love this robe. looks like it s...\n",
              "54996                       \"this robe fits true to size\n",
              "54997     \"this is a superior satin men's robe.  grea...\n",
              "54998                  \"this is a great item.  no lining\n",
              "54999     \"previously i had a silk robe which i liked...\n",
              "\n",
              "[52869 rows x 1 columns]"
            ]
          },
          "execution_count": 9,
          "metadata": {},
          "output_type": "execute_result"
        }
      ],
      "source": [
        "df = df.drop(columns = ['Unnamed: 0','Unnamed: 0.1','Unnamed: 3','Unnamed: 4'])\n",
        "df"
      ]
    },
    {
      "cell_type": "code",
      "execution_count": 10,
      "metadata": {
        "id": "OET-ot6TJreQ"
      },
      "outputs": [],
      "source": [
        "from textblob import Word, TextBlob"
      ]
    },
    {
      "cell_type": "code",
      "execution_count": 11,
      "metadata": {
        "colab": {
          "base_uri": "https://localhost:8080/",
          "height": 424
        },
        "id": "B-f1PSY91CRk",
        "outputId": "e7c834bb-d056-43b6-b724-c4a4d8a548c2"
      },
      "outputs": [
        {
          "data": {
            "text/html": [
              "<div>\n",
              "<style scoped>\n",
              "    .dataframe tbody tr th:only-of-type {\n",
              "        vertical-align: middle;\n",
              "    }\n",
              "\n",
              "    .dataframe tbody tr th {\n",
              "        vertical-align: top;\n",
              "    }\n",
              "\n",
              "    .dataframe thead th {\n",
              "        text-align: right;\n",
              "    }\n",
              "</style>\n",
              "<table border=\"1\" class=\"dataframe\">\n",
              "  <thead>\n",
              "    <tr style=\"text-align: right;\">\n",
              "      <th></th>\n",
              "      <th>Customer_reviewText</th>\n",
              "      <th>polarity</th>\n",
              "      <th>subjectivity</th>\n",
              "    </tr>\n",
              "  </thead>\n",
              "  <tbody>\n",
              "    <tr>\n",
              "      <th>0</th>\n",
              "      <td>\"fits great but not too hot and bulky so it...</td>\n",
              "      <td>0.683333</td>\n",
              "      <td>0.866667</td>\n",
              "    </tr>\n",
              "    <tr>\n",
              "      <th>1</th>\n",
              "      <td>\"great lounge set!  i now own both colors a...</td>\n",
              "      <td>0.812500</td>\n",
              "      <td>0.937500</td>\n",
              "    </tr>\n",
              "    <tr>\n",
              "      <th>2</th>\n",
              "      <td>\"i ordered both colors and i am in love wit...</td>\n",
              "      <td>0.300000</td>\n",
              "      <td>0.475000</td>\n",
              "    </tr>\n",
              "    <tr>\n",
              "      <th>3</th>\n",
              "      <td>\"i purchased these for myself and was so ha...</td>\n",
              "      <td>0.187500</td>\n",
              "      <td>0.687500</td>\n",
              "    </tr>\n",
              "    <tr>\n",
              "      <th>4</th>\n",
              "      <td>\"i bought this for my son-in-law.  he put i...</td>\n",
              "      <td>0.700000</td>\n",
              "      <td>0.800000</td>\n",
              "    </tr>\n",
              "    <tr>\n",
              "      <th>...</th>\n",
              "      <td>...</td>\n",
              "      <td>...</td>\n",
              "      <td>...</td>\n",
              "    </tr>\n",
              "    <tr>\n",
              "      <th>54995</th>\n",
              "      <td>\"absolutely love this robe. looks like it s...</td>\n",
              "      <td>0.182099</td>\n",
              "      <td>0.403086</td>\n",
              "    </tr>\n",
              "    <tr>\n",
              "      <th>54996</th>\n",
              "      <td>\"this robe fits true to size</td>\n",
              "      <td>0.350000</td>\n",
              "      <td>0.650000</td>\n",
              "    </tr>\n",
              "    <tr>\n",
              "      <th>54997</th>\n",
              "      <td>\"this is a superior satin men's robe.  grea...</td>\n",
              "      <td>0.642222</td>\n",
              "      <td>0.785556</td>\n",
              "    </tr>\n",
              "    <tr>\n",
              "      <th>54998</th>\n",
              "      <td>\"this is a great item.  no lining</td>\n",
              "      <td>0.800000</td>\n",
              "      <td>0.750000</td>\n",
              "    </tr>\n",
              "    <tr>\n",
              "      <th>54999</th>\n",
              "      <td>\"previously i had a silk robe which i liked...</td>\n",
              "      <td>0.061111</td>\n",
              "      <td>0.455556</td>\n",
              "    </tr>\n",
              "  </tbody>\n",
              "</table>\n",
              "<p>52869 rows × 3 columns</p>\n",
              "</div>"
            ],
            "text/plain": [
              "                                     Customer_reviewText  polarity  \\\n",
              "0         \"fits great but not too hot and bulky so it...  0.683333   \n",
              "1         \"great lounge set!  i now own both colors a...  0.812500   \n",
              "2         \"i ordered both colors and i am in love wit...  0.300000   \n",
              "3         \"i purchased these for myself and was so ha...  0.187500   \n",
              "4         \"i bought this for my son-in-law.  he put i...  0.700000   \n",
              "...                                                  ...       ...   \n",
              "54995     \"absolutely love this robe. looks like it s...  0.182099   \n",
              "54996                       \"this robe fits true to size  0.350000   \n",
              "54997     \"this is a superior satin men's robe.  grea...  0.642222   \n",
              "54998                  \"this is a great item.  no lining  0.800000   \n",
              "54999     \"previously i had a silk robe which i liked...  0.061111   \n",
              "\n",
              "       subjectivity  \n",
              "0          0.866667  \n",
              "1          0.937500  \n",
              "2          0.475000  \n",
              "3          0.687500  \n",
              "4          0.800000  \n",
              "...             ...  \n",
              "54995      0.403086  \n",
              "54996      0.650000  \n",
              "54997      0.785556  \n",
              "54998      0.750000  \n",
              "54999      0.455556  \n",
              "\n",
              "[52869 rows x 3 columns]"
            ]
          },
          "execution_count": 11,
          "metadata": {},
          "output_type": "execute_result"
        }
      ],
      "source": [
        "\n",
        "pol = lambda x: TextBlob(x).sentiment.polarity\n",
        "sub = lambda x: TextBlob(x).sentiment.subjectivity\n",
        "\n",
        "df['polarity'] = df['Customer_reviewText'].apply(pol)\n",
        "df['subjectivity'] = df['Customer_reviewText'].apply(sub)\n",
        "df"
      ]
    },
    {
      "cell_type": "code",
      "execution_count": 12,
      "metadata": {
        "colab": {
          "base_uri": "https://localhost:8080/",
          "height": 248
        },
        "id": "9IYJUG-xJMS3",
        "outputId": "5077c8e6-02b8-4042-e2e6-503f74626001"
      },
      "outputs": [
        {
          "data": {
            "image/png": "[encoded data removed]",
            "text/plain": [
              "<Figure size 640x480 with 1 Axes>"
            ]
          },
          "metadata": {},
          "output_type": "display_data"
        }
      ],
      "source": [
        "from wordcloud import WordCloud \n",
        "# Plot the Word Cloud\n",
        "allWords = ' '.join([comnt for comnt in df['Customer_reviewText']])\n",
        "wordCloud = WordCloud(width =1000, height =800, random_state = 21, max_font_size = 119).generate(allWords)\n",
        "\n",
        "plt.imshow(wordCloud, interpolation = \"bilinear\")\n",
        "plt.axis('off')\n",
        "plt.show()"
      ]
    },
    {
      "cell_type": "code",
      "execution_count": 13,
      "metadata": {
        "colab": {
          "base_uri": "https://localhost:8080/",
          "height": 424
        },
        "id": "WqVov65g4DaU",
        "outputId": "b9d83421-47ee-4a19-d650-8b6c4d7507e6"
      },
      "outputs": [
        {
          "data": {
            "text/html": [
              "<div>\n",
              "<style scoped>\n",
              "    .dataframe tbody tr th:only-of-type {\n",
              "        vertical-align: middle;\n",
              "    }\n",
              "\n",
              "    .dataframe tbody tr th {\n",
              "        vertical-align: top;\n",
              "    }\n",
              "\n",
              "    .dataframe thead th {\n",
              "        text-align: right;\n",
              "    }\n",
              "</style>\n",
              "<table border=\"1\" class=\"dataframe\">\n",
              "  <thead>\n",
              "    <tr style=\"text-align: right;\">\n",
              "      <th></th>\n",
              "      <th>Customer_reviewText</th>\n",
              "      <th>polarity</th>\n",
              "      <th>subjectivity</th>\n",
              "      <th>Class</th>\n",
              "    </tr>\n",
              "  </thead>\n",
              "  <tbody>\n",
              "    <tr>\n",
              "      <th>0</th>\n",
              "      <td>\"fits great but not too hot and bulky so it...</td>\n",
              "      <td>0.683333</td>\n",
              "      <td>0.866667</td>\n",
              "      <td>Positive</td>\n",
              "    </tr>\n",
              "    <tr>\n",
              "      <th>1</th>\n",
              "      <td>\"great lounge set!  i now own both colors a...</td>\n",
              "      <td>0.812500</td>\n",
              "      <td>0.937500</td>\n",
              "      <td>Positive</td>\n",
              "    </tr>\n",
              "    <tr>\n",
              "      <th>2</th>\n",
              "      <td>\"i ordered both colors and i am in love wit...</td>\n",
              "      <td>0.300000</td>\n",
              "      <td>0.475000</td>\n",
              "      <td>Positive</td>\n",
              "    </tr>\n",
              "    <tr>\n",
              "      <th>3</th>\n",
              "      <td>\"i purchased these for myself and was so ha...</td>\n",
              "      <td>0.187500</td>\n",
              "      <td>0.687500</td>\n",
              "      <td>Positive</td>\n",
              "    </tr>\n",
              "    <tr>\n",
              "      <th>4</th>\n",
              "      <td>\"i bought this for my son-in-law.  he put i...</td>\n",
              "      <td>0.700000</td>\n",
              "      <td>0.800000</td>\n",
              "      <td>Positive</td>\n",
              "    </tr>\n",
              "    <tr>\n",
              "      <th>...</th>\n",
              "      <td>...</td>\n",
              "      <td>...</td>\n",
              "      <td>...</td>\n",
              "      <td>...</td>\n",
              "    </tr>\n",
              "    <tr>\n",
              "      <th>54995</th>\n",
              "      <td>\"absolutely love this robe. looks like it s...</td>\n",
              "      <td>0.182099</td>\n",
              "      <td>0.403086</td>\n",
              "      <td>Positive</td>\n",
              "    </tr>\n",
              "    <tr>\n",
              "      <th>54996</th>\n",
              "      <td>\"this robe fits true to size</td>\n",
              "      <td>0.350000</td>\n",
              "      <td>0.650000</td>\n",
              "      <td>Positive</td>\n",
              "    </tr>\n",
              "    <tr>\n",
              "      <th>54997</th>\n",
              "      <td>\"this is a superior satin men's robe.  grea...</td>\n",
              "      <td>0.642222</td>\n",
              "      <td>0.785556</td>\n",
              "      <td>Positive</td>\n",
              "    </tr>\n",
              "    <tr>\n",
              "      <th>54998</th>\n",
              "      <td>\"this is a great item.  no lining</td>\n",
              "      <td>0.800000</td>\n",
              "      <td>0.750000</td>\n",
              "      <td>Positive</td>\n",
              "    </tr>\n",
              "    <tr>\n",
              "      <th>54999</th>\n",
              "      <td>\"previously i had a silk robe which i liked...</td>\n",
              "      <td>0.061111</td>\n",
              "      <td>0.455556</td>\n",
              "      <td>Positive</td>\n",
              "    </tr>\n",
              "  </tbody>\n",
              "</table>\n",
              "<p>52869 rows × 4 columns</p>\n",
              "</div>"
            ],
            "text/plain": [
              "                                     Customer_reviewText  polarity  \\\n",
              "0         \"fits great but not too hot and bulky so it...  0.683333   \n",
              "1         \"great lounge set!  i now own both colors a...  0.812500   \n",
              "2         \"i ordered both colors and i am in love wit...  0.300000   \n",
              "3         \"i purchased these for myself and was so ha...  0.187500   \n",
              "4         \"i bought this for my son-in-law.  he put i...  0.700000   \n",
              "...                                                  ...       ...   \n",
              "54995     \"absolutely love this robe. looks like it s...  0.182099   \n",
              "54996                       \"this robe fits true to size  0.350000   \n",
              "54997     \"this is a superior satin men's robe.  grea...  0.642222   \n",
              "54998                  \"this is a great item.  no lining  0.800000   \n",
              "54999     \"previously i had a silk robe which i liked...  0.061111   \n",
              "\n",
              "       subjectivity     Class  \n",
              "0          0.866667  Positive  \n",
              "1          0.937500  Positive  \n",
              "2          0.475000  Positive  \n",
              "3          0.687500  Positive  \n",
              "4          0.800000  Positive  \n",
              "...             ...       ...  \n",
              "54995      0.403086  Positive  \n",
              "54996      0.650000  Positive  \n",
              "54997      0.785556  Positive  \n",
              "54998      0.750000  Positive  \n",
              "54999      0.455556  Positive  \n",
              "\n",
              "[52869 rows x 4 columns]"
            ]
          },
          "execution_count": 13,
          "metadata": {},
          "output_type": "execute_result"
        }
      ],
      "source": [
        "# Sentiment analysis\n",
        "def getAnalysis(score):\n",
        "  if score < 0:\n",
        "    return 'Negative'\n",
        "  elif score == 0:\n",
        "    return 'Neutral'\n",
        "  else:\n",
        "    return 'Positive'\n",
        "df['Class'] = df['polarity'].apply(getAnalysis)\n",
        "df"
      ]
    },
    {
      "cell_type": "code",
      "execution_count": 14,
      "metadata": {
        "colab": {
          "base_uri": "https://localhost:8080/"
        },
        "id": "_PRV_zqeKH4Y",
        "outputId": "bfaf0771-6d31-4b3f-902f-b1d46eeb5fc2"
      },
      "outputs": [
        {
          "data": {
            "text/plain": [
              "75.0"
            ]
          },
          "execution_count": 14,
          "metadata": {},
          "output_type": "execute_result"
        }
      ],
      "source": [
        "# Get the percentage of positive comment\n",
        "pcomment = df[df.Class == 'Positive']\n",
        "pcomment = pcomment['Customer_reviewText']\n",
        "round((pcomment.shape[0]/df.shape[0]*100), 1)"
      ]
    },
    {
      "cell_type": "code",
      "execution_count": 15,
      "metadata": {
        "colab": {
          "base_uri": "https://localhost:8080/"
        },
        "id": "bosie_cx86d_",
        "outputId": "7a72139d-243d-4253-ff63-aac3f0b8d9d3"
      },
      "outputs": [
        {
          "data": {
            "text/plain": [
              "11.4"
            ]
          },
          "execution_count": 15,
          "metadata": {},
          "output_type": "execute_result"
        }
      ],
      "source": [
        "# Get the percentage of negative comment\n",
        "ncomment = df[df.Class == 'Negative']\n",
        "ncomment = ncomment['Customer_reviewText']\n",
        "round((ncomment.shape[0]/df.shape[0]*100), 1)"
      ]
    },
    {
      "cell_type": "code",
      "execution_count": 16,
      "metadata": {
        "colab": {
          "base_uri": "https://localhost:8080/"
        },
        "id": "IVZgSJsi9Un2",
        "outputId": "dc04b72d-9e02-43c5-bf15-91147df00172"
      },
      "outputs": [
        {
          "data": {
            "text/plain": [
              "13.5"
            ]
          },
          "execution_count": 16,
          "metadata": {},
          "output_type": "execute_result"
        }
      ],
      "source": [
        "# Get the percentage of neutral comment\n",
        "nucomment = df[df.Class == 'Neutral']\n",
        "nucomment = nucomment['Customer_reviewText']\n",
        "round((nucomment.shape[0]/df.shape[0]*100), 1)"
      ]
    },
    {
      "cell_type": "code",
      "execution_count": 17,
      "metadata": {
        "colab": {
          "base_uri": "https://localhost:8080/",
          "height": 330
        },
        "id": "gJnTqvMU9oxX",
        "outputId": "816c0a0b-d267-4eb0-cbd8-da59bbf8d0cb"
      },
      "outputs": [
        {
          "data": {
            "image/png": "[encoded data removed]",
            "text/plain": [
              "<Figure size 640x480 with 1 Axes>"
            ]
          },
          "metadata": {},
          "output_type": "display_data"
        }
      ],
      "source": [
        "import matplotlib.pyplot as plt\n",
        "import numpy as np\n",
        "# Displaying the Sentiment Coutns\n",
        "df['Class'].value_counts()\n",
        "#plot and visualize the counts\n",
        "plt.title('Sentiment Analysis')\n",
        "plt.xlabel('Sentiment')\n",
        "plt.ylabel('Counts')\n",
        "df['Class'].value_counts().plot(kind='bar')\n",
        "plt.show()"
      ]
    },
    {
      "cell_type": "code",
      "execution_count": 18,
      "metadata": {
        "colab": {
          "base_uri": "https://localhost:8080/",
          "height": 248
        },
        "id": "HYU75JTU93p5",
        "outputId": "9c37cd32-f0a8-4bfb-e9cb-4f502e7278c4"
      },
      "outputs": [
        {
          "data": {
            "image/png": "[encoded data removed]",
            "text/plain": [
              "<Figure size 640x480 with 1 Axes>"
            ]
          },
          "metadata": {},
          "output_type": "display_data"
        }
      ],
      "source": [
        "df['Class'].value_counts().plot(kind='pie')\n",
        "plt.show()"
      ]
    },
    {
      "cell_type": "code",
      "execution_count": 19,
      "metadata": {
        "colab": {
          "base_uri": "https://localhost:8080/"
        },
        "id": "XdnVNBy9NNye",
        "outputId": "4e1816ba-cecd-4071-fca5-d4ec9a665857"
      },
      "outputs": [
        {
          "name": "stdout",
          "output_type": "stream",
          "text": [
            "\n",
            "Class Name :  Positive\n",
            "Number of Documents:39664\n",
            "Number of Words:1149214\n",
            "Number of Unique Words:46153\n",
            "Most Frequent Words:\n",
            "\n",
            "the\t44521\n",
            "and\t39272\n",
            "i\t35977\n",
            "a\t32126\n",
            "to\t22523\n",
            "is\t20148\n",
            "for\t18924\n",
            "it\t18913\n",
            "my\t14803\n",
            "are\t14359\n",
            "\n",
            "Class Name :  Neutral\n",
            "Number of Documents:7161\n",
            "Number of Words:74729\n",
            "Number of Unique Words:9129\n",
            "Most Frequent Words:\n",
            "\n",
            "\"i\t2774\n",
            "a\t2445\n",
            "the\t2318\n",
            "for\t1870\n",
            "i\t1671\n",
            "to\t1482\n",
            "this\t1480\n",
            "my\t1420\n",
            "and\t1245\n",
            "of\t1216\n",
            "\n",
            "Class Name :  Negative\n",
            "Number of Documents:6044\n",
            "Number of Words:149128\n",
            "Number of Unique Words:13471\n",
            "Most Frequent Words:\n",
            "\n",
            "the\t6022\n",
            "i\t4663\n",
            "a\t4553\n",
            "and\t3848\n",
            "to\t3210\n",
            "it\t2336\n",
            "is\t2267\n",
            "\"i\t2188\n",
            "for\t2170\n",
            "in\t1899\n",
            "Total Number of Unique Words:52945\n"
          ]
        }
      ],
      "source": [
        "def data_summary(df):\n",
        "    \n",
        "    \"\"\"\n",
        "    This function will print the summary of the reviews and words distribution in the dataset. \n",
        "    \n",
        "    Args:\n",
        "        dataset: list of cleaned sentences   \n",
        "        \n",
        "    Returns:\n",
        "        Number of documnets per class: int \n",
        "        Number of words per class: int\n",
        "        Number of unique words per class: int\n",
        "    \"\"\"\n",
        "    documents = []\n",
        "    words = []\n",
        "    u_words = []\n",
        "    total_u_words = [word.strip().lower() for t in list(df.Customer_reviewText) for word in t.strip().split()]\n",
        "    class_label= [k for k,v in df.Class.value_counts().to_dict().items()]\n",
        "  # find word list\n",
        "    for label in class_label: \n",
        "        word_list = [word.strip().lower() for t in list(df[df.Class==label].Customer_reviewText) for word in t.strip().split()]\n",
        "        counts = dict()\n",
        "        for word in word_list:\n",
        "                counts[word] = counts.get(word, 0)+1\n",
        "        # sort the dictionary of word list  \n",
        "        ordered = sorted(counts.items(), key= lambda item: item[1],reverse = True)\n",
        "        # Documents per class\n",
        "        documents.append(len(list(df[df.Class==label].Customer_reviewText)))\n",
        "        # Total Word per class\n",
        "        words.append(len(word_list))\n",
        "        # Unique words per class \n",
        "        u_words.append(len(np.unique(word_list)))\n",
        "       \n",
        "        print(\"\\nClass Name : \",label)\n",
        "        print(\"Number of Documents:{}\".format(len(list(df[df.Class==label].Customer_reviewText))))  \n",
        "        print(\"Number of Words:{}\".format(len(word_list))) \n",
        "        print(\"Number of Unique Words:{}\".format(len(np.unique(word_list)))) \n",
        "        print(\"Most Frequent Words:\\n\")\n",
        "        for k,v in ordered[:10]:\n",
        "              print(\"{}\\t{}\".format(k,v))\n",
        "    print(\"Total Number of Unique Words:{}\".format(len(np.unique(total_u_words))))           \n",
        "   \n",
        "    return documents,words,u_words,class_label\n",
        "\n",
        "#call the fucntion\n",
        "documents,words,u_words,class_names = data_summary(df)"
      ]
    },
    {
      "cell_type": "markdown",
      "metadata": {
        "id": "yI1GAIUk73WD"
      },
      "source": [
        "                          **Preprocessing**"
      ]
    },
    {
      "cell_type": "markdown",
      "metadata": {
        "id": "Us7Q0Umw-D46"
      },
      "source": [
        "Lower casing"
      ]
    },
    {
      "cell_type": "code",
      "execution_count": 20,
      "metadata": {
        "id": "2Q3GYvvA9u2R"
      },
      "outputs": [],
      "source": [
        "df['Customer_reviewText']=df['Customer_reviewText'].apply(lambda x: x.lower())"
      ]
    },
    {
      "cell_type": "markdown",
      "metadata": {
        "id": "eLdTWDX4Bsoh"
      },
      "source": [
        "Punctuation Remove"
      ]
    },
    {
      "cell_type": "code",
      "execution_count": 21,
      "metadata": {
        "colab": {
          "base_uri": "https://localhost:8080/",
          "height": 35
        },
        "id": "mjQ0bSQcBQkJ",
        "outputId": "0b1d9591-b933-47e3-f496-8b58b4ceb2d8"
      },
      "outputs": [
        {
          "data": {
            "text/plain": [
              "'!\"#$%&\\'()*+,-./:;<=>?@[\\\\]^_`{|}~'"
            ]
          },
          "execution_count": 21,
          "metadata": {},
          "output_type": "execute_result"
        }
      ],
      "source": [
        "#library that contains punctuation\n",
        "import string\n",
        "string.punctuation"
      ]
    },
    {
      "cell_type": "code",
      "execution_count": 22,
      "metadata": {
        "colab": {
          "base_uri": "https://localhost:8080/",
          "height": 424
        },
        "id": "XHQ8JhDnBZFd",
        "outputId": "702b46d7-72d7-4c55-aafc-76f40c7957db"
      },
      "outputs": [
        {
          "data": {
            "text/html": [
              "<div>\n",
              "<style scoped>\n",
              "    .dataframe tbody tr th:only-of-type {\n",
              "        vertical-align: middle;\n",
              "    }\n",
              "\n",
              "    .dataframe tbody tr th {\n",
              "        vertical-align: top;\n",
              "    }\n",
              "\n",
              "    .dataframe thead th {\n",
              "        text-align: right;\n",
              "    }\n",
              "</style>\n",
              "<table border=\"1\" class=\"dataframe\">\n",
              "  <thead>\n",
              "    <tr style=\"text-align: right;\">\n",
              "      <th></th>\n",
              "      <th>Customer_reviewText</th>\n",
              "      <th>polarity</th>\n",
              "      <th>subjectivity</th>\n",
              "      <th>Class</th>\n",
              "    </tr>\n",
              "  </thead>\n",
              "  <tbody>\n",
              "    <tr>\n",
              "      <th>0</th>\n",
              "      <td>fits great but not too hot and bulky so it ...</td>\n",
              "      <td>0.683333</td>\n",
              "      <td>0.866667</td>\n",
              "      <td>Positive</td>\n",
              "    </tr>\n",
              "    <tr>\n",
              "      <th>1</th>\n",
              "      <td>great lounge set  i now own both colors and...</td>\n",
              "      <td>0.812500</td>\n",
              "      <td>0.937500</td>\n",
              "      <td>Positive</td>\n",
              "    </tr>\n",
              "    <tr>\n",
              "      <th>2</th>\n",
              "      <td>i ordered both colors and i am in love with...</td>\n",
              "      <td>0.300000</td>\n",
              "      <td>0.475000</td>\n",
              "      <td>Positive</td>\n",
              "    </tr>\n",
              "    <tr>\n",
              "      <th>3</th>\n",
              "      <td>i purchased these for myself and was so hap...</td>\n",
              "      <td>0.187500</td>\n",
              "      <td>0.687500</td>\n",
              "      <td>Positive</td>\n",
              "    </tr>\n",
              "    <tr>\n",
              "      <th>4</th>\n",
              "      <td>i bought this for my soninlaw  he put it on...</td>\n",
              "      <td>0.700000</td>\n",
              "      <td>0.800000</td>\n",
              "      <td>Positive</td>\n",
              "    </tr>\n",
              "    <tr>\n",
              "      <th>...</th>\n",
              "      <td>...</td>\n",
              "      <td>...</td>\n",
              "      <td>...</td>\n",
              "      <td>...</td>\n",
              "    </tr>\n",
              "    <tr>\n",
              "      <th>54995</th>\n",
              "      <td>absolutely love this robe looks like it sho...</td>\n",
              "      <td>0.182099</td>\n",
              "      <td>0.403086</td>\n",
              "      <td>Positive</td>\n",
              "    </tr>\n",
              "    <tr>\n",
              "      <th>54996</th>\n",
              "      <td>this robe fits true to size</td>\n",
              "      <td>0.350000</td>\n",
              "      <td>0.650000</td>\n",
              "      <td>Positive</td>\n",
              "    </tr>\n",
              "    <tr>\n",
              "      <th>54997</th>\n",
              "      <td>this is a superior satin mens robe  great s...</td>\n",
              "      <td>0.642222</td>\n",
              "      <td>0.785556</td>\n",
              "      <td>Positive</td>\n",
              "    </tr>\n",
              "    <tr>\n",
              "      <th>54998</th>\n",
              "      <td>this is a great item  no lining</td>\n",
              "      <td>0.800000</td>\n",
              "      <td>0.750000</td>\n",
              "      <td>Positive</td>\n",
              "    </tr>\n",
              "    <tr>\n",
              "      <th>54999</th>\n",
              "      <td>previously i had a silk robe which i liked ...</td>\n",
              "      <td>0.061111</td>\n",
              "      <td>0.455556</td>\n",
              "      <td>Positive</td>\n",
              "    </tr>\n",
              "  </tbody>\n",
              "</table>\n",
              "<p>52869 rows × 4 columns</p>\n",
              "</div>"
            ],
            "text/plain": [
              "                                     Customer_reviewText  polarity  \\\n",
              "0         fits great but not too hot and bulky so it ...  0.683333   \n",
              "1         great lounge set  i now own both colors and...  0.812500   \n",
              "2         i ordered both colors and i am in love with...  0.300000   \n",
              "3         i purchased these for myself and was so hap...  0.187500   \n",
              "4         i bought this for my soninlaw  he put it on...  0.700000   \n",
              "...                                                  ...       ...   \n",
              "54995     absolutely love this robe looks like it sho...  0.182099   \n",
              "54996                        this robe fits true to size  0.350000   \n",
              "54997     this is a superior satin mens robe  great s...  0.642222   \n",
              "54998                    this is a great item  no lining  0.800000   \n",
              "54999     previously i had a silk robe which i liked ...  0.061111   \n",
              "\n",
              "       subjectivity     Class  \n",
              "0          0.866667  Positive  \n",
              "1          0.937500  Positive  \n",
              "2          0.475000  Positive  \n",
              "3          0.687500  Positive  \n",
              "4          0.800000  Positive  \n",
              "...             ...       ...  \n",
              "54995      0.403086  Positive  \n",
              "54996      0.650000  Positive  \n",
              "54997      0.785556  Positive  \n",
              "54998      0.750000  Positive  \n",
              "54999      0.455556  Positive  \n",
              "\n",
              "[52869 rows x 4 columns]"
            ]
          },
          "execution_count": 22,
          "metadata": {},
          "output_type": "execute_result"
        }
      ],
      "source": [
        "#defining the function to remove punctuation\n",
        "def remove_punctuation(text):\n",
        "    punctuationfree=\"\".join([i for i in text if i not in string.punctuation])\n",
        "    return punctuationfree\n",
        "#storing the puntuation free text\n",
        "df['Customer_reviewText']= df['Customer_reviewText'].apply(lambda x:remove_punctuation(x))\n",
        "# df.iloc[[31]]\n",
        "df"
      ]
    },
    {
      "cell_type": "markdown",
      "metadata": {
        "id": "d7o8I-dNKtxx"
      },
      "source": [
        "Removing URLs"
      ]
    },
    {
      "cell_type": "code",
      "execution_count": 23,
      "metadata": {
        "colab": {
          "base_uri": "https://localhost:8080/"
        },
        "id": "jYnQZwuusNRn",
        "outputId": "0a85ec60-37cf-446d-98d3-2da61389cacf"
      },
      "outputs": [],
      "source": [
        "df['Customer_reviewText'] = df['Customer_reviewText'].str.replace('http[s]?://(?:[a-zA-Z]|[0-9]|[$-_@.&+]|[!*\\(\\),]|(?:%[0-9a-fA-F][0-9a-fA-F]))+', ' ')"
      ]
    },
    {
      "cell_type": "markdown",
      "metadata": {
        "id": "F1KmUjgf0EZq"
      },
      "source": [
        "Stopwords\n",
        "\n",
        "It allows us to get rid of commonly used words."
      ]
    },
    {
      "cell_type": "code",
      "execution_count": 24,
      "metadata": {
        "colab": {
          "base_uri": "https://localhost:8080/",
          "height": 424
        },
        "id": "mriSJiETq-6R",
        "outputId": "2b3dff8e-88fd-45cd-d346-f8b302ab1ca4"
      },
      "outputs": [
        {
          "data": {
            "text/html": [
              "<div>\n",
              "<style scoped>\n",
              "    .dataframe tbody tr th:only-of-type {\n",
              "        vertical-align: middle;\n",
              "    }\n",
              "\n",
              "    .dataframe tbody tr th {\n",
              "        vertical-align: top;\n",
              "    }\n",
              "\n",
              "    .dataframe thead th {\n",
              "        text-align: right;\n",
              "    }\n",
              "</style>\n",
              "<table border=\"1\" class=\"dataframe\">\n",
              "  <thead>\n",
              "    <tr style=\"text-align: right;\">\n",
              "      <th></th>\n",
              "      <th>Customer_reviewText</th>\n",
              "      <th>polarity</th>\n",
              "      <th>subjectivity</th>\n",
              "      <th>Class</th>\n",
              "    </tr>\n",
              "  </thead>\n",
              "  <tbody>\n",
              "    <tr>\n",
              "      <th>0</th>\n",
              "      <td>fits,great,hot,bulky,perfect,lounger,beach,wat...</td>\n",
              "      <td>0.683333</td>\n",
              "      <td>0.866667</td>\n",
              "      <td>Positive</td>\n",
              "    </tr>\n",
              "    <tr>\n",
              "      <th>1</th>\n",
              "      <td>great,lounge,set,colors,pleased,excellent,qual...</td>\n",
              "      <td>0.812500</td>\n",
              "      <td>0.937500</td>\n",
              "      <td>Positive</td>\n",
              "    </tr>\n",
              "    <tr>\n",
              "      <th>2</th>\n",
              "      <td>ordered,colors,love,lounge,setsthey,soft</td>\n",
              "      <td>0.300000</td>\n",
              "      <td>0.475000</td>\n",
              "      <td>Positive</td>\n",
              "    </tr>\n",
              "    <tr>\n",
              "      <th>3</th>\n",
              "      <td>purchased,happy,soft,found,2,holes,inside,leg,...</td>\n",
              "      <td>0.187500</td>\n",
              "      <td>0.687500</td>\n",
              "      <td>Positive</td>\n",
              "    </tr>\n",
              "    <tr>\n",
              "      <th>4</th>\n",
              "      <td>bought,soninlaw,put,soon,got,package,loved</td>\n",
              "      <td>0.700000</td>\n",
              "      <td>0.800000</td>\n",
              "      <td>Positive</td>\n",
              "    </tr>\n",
              "    <tr>\n",
              "      <th>...</th>\n",
              "      <td>...</td>\n",
              "      <td>...</td>\n",
              "      <td>...</td>\n",
              "      <td>...</td>\n",
              "    </tr>\n",
              "    <tr>\n",
              "      <th>54995</th>\n",
              "      <td>absolutely,love,robe,looks,like,cost,200,im,51...</td>\n",
              "      <td>0.182099</td>\n",
              "      <td>0.403086</td>\n",
              "      <td>Positive</td>\n",
              "    </tr>\n",
              "    <tr>\n",
              "      <th>54996</th>\n",
              "      <td>robe,fits,true,size</td>\n",
              "      <td>0.350000</td>\n",
              "      <td>0.650000</td>\n",
              "      <td>Positive</td>\n",
              "    </tr>\n",
              "    <tr>\n",
              "      <th>54997</th>\n",
              "      <td>superior,satin,mens,robe,great,sizing,good,len...</td>\n",
              "      <td>0.642222</td>\n",
              "      <td>0.785556</td>\n",
              "      <td>Positive</td>\n",
              "    </tr>\n",
              "    <tr>\n",
              "      <th>54998</th>\n",
              "      <td>great,item,lining</td>\n",
              "      <td>0.800000</td>\n",
              "      <td>0.750000</td>\n",
              "      <td>Positive</td>\n",
              "    </tr>\n",
              "    <tr>\n",
              "      <th>54999</th>\n",
              "      <td>previously,silk,robe,liked,bit,small</td>\n",
              "      <td>0.061111</td>\n",
              "      <td>0.455556</td>\n",
              "      <td>Positive</td>\n",
              "    </tr>\n",
              "  </tbody>\n",
              "</table>\n",
              "<p>52869 rows × 4 columns</p>\n",
              "</div>"
            ],
            "text/plain": [
              "                                     Customer_reviewText  polarity  \\\n",
              "0      fits,great,hot,bulky,perfect,lounger,beach,wat...  0.683333   \n",
              "1      great,lounge,set,colors,pleased,excellent,qual...  0.812500   \n",
              "2               ordered,colors,love,lounge,setsthey,soft  0.300000   \n",
              "3      purchased,happy,soft,found,2,holes,inside,leg,...  0.187500   \n",
              "4             bought,soninlaw,put,soon,got,package,loved  0.700000   \n",
              "...                                                  ...       ...   \n",
              "54995  absolutely,love,robe,looks,like,cost,200,im,51...  0.182099   \n",
              "54996                                robe,fits,true,size  0.350000   \n",
              "54997  superior,satin,mens,robe,great,sizing,good,len...  0.642222   \n",
              "54998                                  great,item,lining  0.800000   \n",
              "54999               previously,silk,robe,liked,bit,small  0.061111   \n",
              "\n",
              "       subjectivity     Class  \n",
              "0          0.866667  Positive  \n",
              "1          0.937500  Positive  \n",
              "2          0.475000  Positive  \n",
              "3          0.687500  Positive  \n",
              "4          0.800000  Positive  \n",
              "...             ...       ...  \n",
              "54995      0.403086  Positive  \n",
              "54996      0.650000  Positive  \n",
              "54997      0.785556  Positive  \n",
              "54998      0.750000  Positive  \n",
              "54999      0.455556  Positive  \n",
              "\n",
              "[52869 rows x 4 columns]"
            ]
          },
          "execution_count": 24,
          "metadata": {},
          "output_type": "execute_result"
        }
      ],
      "source": [
        "def remove_stop(x):\n",
        "  return \",\".join([word for word in str(x).split() if word not in stop_words]) #stopwords removal)\n",
        "df['Customer_reviewText'] = df['Customer_reviewText'].apply(lambda x: remove_stop(x))\n",
        "df"
      ]
    },
    {
      "cell_type": "markdown",
      "metadata": {
        "id": "48ulvPp-BedS"
      },
      "source": [
        "Remove emoji’s"
      ]
    },
    {
      "cell_type": "code",
      "execution_count": 25,
      "metadata": {
        "colab": {
          "base_uri": "https://localhost:8080/",
          "height": 269
        },
        "id": "MlX7WIDFBBYb",
        "outputId": "b0c2d651-1137-4605-9446-178dd677e7b0"
      },
      "outputs": [
        {
          "data": {
            "text/html": [
              "<div>\n",
              "<style scoped>\n",
              "    .dataframe tbody tr th:only-of-type {\n",
              "        vertical-align: middle;\n",
              "    }\n",
              "\n",
              "    .dataframe tbody tr th {\n",
              "        vertical-align: top;\n",
              "    }\n",
              "\n",
              "    .dataframe thead th {\n",
              "        text-align: right;\n",
              "    }\n",
              "</style>\n",
              "<table border=\"1\" class=\"dataframe\">\n",
              "  <thead>\n",
              "    <tr style=\"text-align: right;\">\n",
              "      <th></th>\n",
              "      <th>Customer_reviewText</th>\n",
              "      <th>polarity</th>\n",
              "      <th>subjectivity</th>\n",
              "      <th>Class</th>\n",
              "    </tr>\n",
              "  </thead>\n",
              "  <tbody>\n",
              "    <tr>\n",
              "      <th>4</th>\n",
              "      <td>bought,soninlaw,put,soon,got,package,loved</td>\n",
              "      <td>0.700000</td>\n",
              "      <td>0.800000</td>\n",
              "      <td>Positive</td>\n",
              "    </tr>\n",
              "    <tr>\n",
              "      <th>6</th>\n",
              "      <td>husband,works,outside,alaska,shaved,head,hat,e...</td>\n",
              "      <td>0.080000</td>\n",
              "      <td>0.295000</td>\n",
              "      <td>Positive</td>\n",
              "    </tr>\n",
              "    <tr>\n",
              "      <th>7</th>\n",
              "      <td>hard,hat,kind,man</td>\n",
              "      <td>0.154167</td>\n",
              "      <td>0.720833</td>\n",
              "      <td>Positive</td>\n",
              "    </tr>\n",
              "    <tr>\n",
              "      <th>5</th>\n",
              "      <td>hat,arrived,house,shortly,ordered,fits,great</td>\n",
              "      <td>0.400000</td>\n",
              "      <td>0.570000</td>\n",
              "      <td>Positive</td>\n",
              "    </tr>\n",
              "    <tr>\n",
              "      <th>8</th>\n",
              "      <td>like,wearing</td>\n",
              "      <td>0.000000</td>\n",
              "      <td>0.000000</td>\n",
              "      <td>Neutral</td>\n",
              "    </tr>\n",
              "    <tr>\n",
              "      <th>9</th>\n",
              "      <td>bought,hat,christmas,husband,match,tan,carhart...</td>\n",
              "      <td>0.800000</td>\n",
              "      <td>0.750000</td>\n",
              "      <td>Positive</td>\n",
              "    </tr>\n",
              "    <tr>\n",
              "      <th>10</th>\n",
              "      <td>purchased,shoe,feet,great,portion,day,love,sho...</td>\n",
              "      <td>0.340476</td>\n",
              "      <td>0.666667</td>\n",
              "      <td>Positive</td>\n",
              "    </tr>\n",
              "  </tbody>\n",
              "</table>\n",
              "</div>"
            ],
            "text/plain": [
              "                                  Customer_reviewText  polarity  subjectivity  \\\n",
              "4          bought,soninlaw,put,soon,got,package,loved  0.700000      0.800000   \n",
              "6   husband,works,outside,alaska,shaved,head,hat,e...  0.080000      0.295000   \n",
              "7                                   hard,hat,kind,man  0.154167      0.720833   \n",
              "5        hat,arrived,house,shortly,ordered,fits,great  0.400000      0.570000   \n",
              "8                                        like,wearing  0.000000      0.000000   \n",
              "9   bought,hat,christmas,husband,match,tan,carhart...  0.800000      0.750000   \n",
              "10  purchased,shoe,feet,great,portion,day,love,sho...  0.340476      0.666667   \n",
              "\n",
              "       Class  \n",
              "4   Positive  \n",
              "6   Positive  \n",
              "7   Positive  \n",
              "5   Positive  \n",
              "8    Neutral  \n",
              "9   Positive  \n",
              "10  Positive  "
            ]
          },
          "execution_count": 25,
          "metadata": {},
          "output_type": "execute_result"
        }
      ],
      "source": [
        "def remove_emoji(text):\n",
        "    emoji_pattern = re.compile(\"[\"\n",
        "                           u\"\\U0001F600-\\U0001F64F\"  # emoticons\n",
        "                           u\"\\U0001F300-\\U0001F5FF\"  # symbols & pictographs\n",
        "                           u\"\\U0001F680-\\U0001F6FF\"  # transport & map symbols\n",
        "                           u\"\\U0001F1E0-\\U0001F1FF\"  # flags \n",
        "                           u\"\\U00002702-\\U000027B0\"\n",
        "                           u\"\\U000024C2-\\U0001F251\"\n",
        "                           \"]+\", flags=re.UNICODE)\n",
        "    return emoji_pattern.sub(r'', text)\n",
        "df['Customer_reviewText'] = df['Customer_reviewText'].apply(lambda x: remove_emoji(x))\n",
        "df.iloc[[4,6,7,5,8,9,10]]"
      ]
    },
    {
      "cell_type": "markdown",
      "metadata": {
        "id": "G316dfYA5ke7"
      },
      "source": [
        "Tokenization\n",
        "\n",
        "break sentences into parts"
      ]
    },
    {
      "cell_type": "code",
      "execution_count": 26,
      "metadata": {
        "id": "kKWdYzWrgrmK"
      },
      "outputs": [],
      "source": [
        "# df['Customer_reviewText'] = df['Customer_reviewText'].astype(str)"
      ]
    },
    {
      "cell_type": "code",
      "execution_count": 27,
      "metadata": {
        "colab": {
          "base_uri": "https://localhost:8080/",
          "height": 424
        },
        "id": "WqY-N8LatJJU",
        "outputId": "410670f9-3b64-4040-8ad0-fa0b9f7f4528"
      },
      "outputs": [
        {
          "data": {
            "text/html": [
              "<div>\n",
              "<style scoped>\n",
              "    .dataframe tbody tr th:only-of-type {\n",
              "        vertical-align: middle;\n",
              "    }\n",
              "\n",
              "    .dataframe tbody tr th {\n",
              "        vertical-align: top;\n",
              "    }\n",
              "\n",
              "    .dataframe thead th {\n",
              "        text-align: right;\n",
              "    }\n",
              "</style>\n",
              "<table border=\"1\" class=\"dataframe\">\n",
              "  <thead>\n",
              "    <tr style=\"text-align: right;\">\n",
              "      <th></th>\n",
              "      <th>Customer_reviewText</th>\n",
              "      <th>polarity</th>\n",
              "      <th>subjectivity</th>\n",
              "      <th>Class</th>\n",
              "    </tr>\n",
              "  </thead>\n",
              "  <tbody>\n",
              "    <tr>\n",
              "      <th>0</th>\n",
              "      <td>[fits, great, hot, bulky, perfect, lounger, be...</td>\n",
              "      <td>0.683333</td>\n",
              "      <td>0.866667</td>\n",
              "      <td>Positive</td>\n",
              "    </tr>\n",
              "    <tr>\n",
              "      <th>1</th>\n",
              "      <td>[great, lounge, set, colors, pleased, excellen...</td>\n",
              "      <td>0.812500</td>\n",
              "      <td>0.937500</td>\n",
              "      <td>Positive</td>\n",
              "    </tr>\n",
              "    <tr>\n",
              "      <th>2</th>\n",
              "      <td>[ordered, colors, love, lounge, setsthey, soft]</td>\n",
              "      <td>0.300000</td>\n",
              "      <td>0.475000</td>\n",
              "      <td>Positive</td>\n",
              "    </tr>\n",
              "    <tr>\n",
              "      <th>3</th>\n",
              "      <td>[purchased, happy, soft, found,2, holes, insid...</td>\n",
              "      <td>0.187500</td>\n",
              "      <td>0.687500</td>\n",
              "      <td>Positive</td>\n",
              "    </tr>\n",
              "    <tr>\n",
              "      <th>4</th>\n",
              "      <td>[bought, soninlaw, put, soon, got, package, lo...</td>\n",
              "      <td>0.700000</td>\n",
              "      <td>0.800000</td>\n",
              "      <td>Positive</td>\n",
              "    </tr>\n",
              "    <tr>\n",
              "      <th>...</th>\n",
              "      <td>...</td>\n",
              "      <td>...</td>\n",
              "      <td>...</td>\n",
              "      <td>...</td>\n",
              "    </tr>\n",
              "    <tr>\n",
              "      <th>54995</th>\n",
              "      <td>[absolutely, love, robe, looks, like, cost,200...</td>\n",
              "      <td>0.182099</td>\n",
              "      <td>0.403086</td>\n",
              "      <td>Positive</td>\n",
              "    </tr>\n",
              "    <tr>\n",
              "      <th>54996</th>\n",
              "      <td>[robe, fits, true, size]</td>\n",
              "      <td>0.350000</td>\n",
              "      <td>0.650000</td>\n",
              "      <td>Positive</td>\n",
              "    </tr>\n",
              "    <tr>\n",
              "      <th>54997</th>\n",
              "      <td>[superior, satin, mens, robe, great, sizing, g...</td>\n",
              "      <td>0.642222</td>\n",
              "      <td>0.785556</td>\n",
              "      <td>Positive</td>\n",
              "    </tr>\n",
              "    <tr>\n",
              "      <th>54998</th>\n",
              "      <td>[great, item, lining]</td>\n",
              "      <td>0.800000</td>\n",
              "      <td>0.750000</td>\n",
              "      <td>Positive</td>\n",
              "    </tr>\n",
              "    <tr>\n",
              "      <th>54999</th>\n",
              "      <td>[previously, silk, robe, liked, bit, small]</td>\n",
              "      <td>0.061111</td>\n",
              "      <td>0.455556</td>\n",
              "      <td>Positive</td>\n",
              "    </tr>\n",
              "  </tbody>\n",
              "</table>\n",
              "<p>52869 rows × 4 columns</p>\n",
              "</div>"
            ],
            "text/plain": [
              "                                     Customer_reviewText  polarity  \\\n",
              "0      [fits, great, hot, bulky, perfect, lounger, be...  0.683333   \n",
              "1      [great, lounge, set, colors, pleased, excellen...  0.812500   \n",
              "2        [ordered, colors, love, lounge, setsthey, soft]  0.300000   \n",
              "3      [purchased, happy, soft, found,2, holes, insid...  0.187500   \n",
              "4      [bought, soninlaw, put, soon, got, package, lo...  0.700000   \n",
              "...                                                  ...       ...   \n",
              "54995  [absolutely, love, robe, looks, like, cost,200...  0.182099   \n",
              "54996                           [robe, fits, true, size]  0.350000   \n",
              "54997  [superior, satin, mens, robe, great, sizing, g...  0.642222   \n",
              "54998                              [great, item, lining]  0.800000   \n",
              "54999        [previously, silk, robe, liked, bit, small]  0.061111   \n",
              "\n",
              "       subjectivity     Class  \n",
              "0          0.866667  Positive  \n",
              "1          0.937500  Positive  \n",
              "2          0.475000  Positive  \n",
              "3          0.687500  Positive  \n",
              "4          0.800000  Positive  \n",
              "...             ...       ...  \n",
              "54995      0.403086  Positive  \n",
              "54996      0.650000  Positive  \n",
              "54997      0.785556  Positive  \n",
              "54998      0.750000  Positive  \n",
              "54999      0.455556  Positive  \n",
              "\n",
              "[52869 rows x 4 columns]"
            ]
          },
          "execution_count": 27,
          "metadata": {},
          "output_type": "execute_result"
        }
      ],
      "source": [
        "\n",
        "\n",
        "df[\"Customer_reviewText\"]=df[\"Customer_reviewText\"].apply(lambda x: TextBlob(x).words)\n",
        "df"
      ]
    },
    {
      "cell_type": "markdown",
      "metadata": {
        "id": "mpW4aop6Z5iB"
      },
      "source": [
        "Stemming"
      ]
    },
    {
      "cell_type": "code",
      "execution_count": 28,
      "metadata": {
        "id": "TcS8-V8ZDnzr"
      },
      "outputs": [],
      "source": [
        "from nltk.stem import PorterStemmer\n",
        "porter = PorterStemmer()"
      ]
    },
    {
      "cell_type": "code",
      "execution_count": 29,
      "metadata": {
        "colab": {
          "base_uri": "https://localhost:8080/",
          "height": 424
        },
        "id": "r4KK02L3X7z5",
        "outputId": "b7d3c5ec-cad1-460a-abc0-622474c5a47e"
      },
      "outputs": [
        {
          "data": {
            "text/html": [
              "<div>\n",
              "<style scoped>\n",
              "    .dataframe tbody tr th:only-of-type {\n",
              "        vertical-align: middle;\n",
              "    }\n",
              "\n",
              "    .dataframe tbody tr th {\n",
              "        vertical-align: top;\n",
              "    }\n",
              "\n",
              "    .dataframe thead th {\n",
              "        text-align: right;\n",
              "    }\n",
              "</style>\n",
              "<table border=\"1\" class=\"dataframe\">\n",
              "  <thead>\n",
              "    <tr style=\"text-align: right;\">\n",
              "      <th></th>\n",
              "      <th>Customer_reviewText</th>\n",
              "      <th>polarity</th>\n",
              "      <th>subjectivity</th>\n",
              "      <th>Class</th>\n",
              "    </tr>\n",
              "  </thead>\n",
              "  <tbody>\n",
              "    <tr>\n",
              "      <th>0</th>\n",
              "      <td>[fit, great, hot, bulki, perfect, lounger, bea...</td>\n",
              "      <td>0.683333</td>\n",
              "      <td>0.866667</td>\n",
              "      <td>Positive</td>\n",
              "    </tr>\n",
              "    <tr>\n",
              "      <th>1</th>\n",
              "      <td>[great, loung, set, color, pleas, excel, quali...</td>\n",
              "      <td>0.812500</td>\n",
              "      <td>0.937500</td>\n",
              "      <td>Positive</td>\n",
              "    </tr>\n",
              "    <tr>\n",
              "      <th>2</th>\n",
              "      <td>[order, color, love, loung, setsthey, soft]</td>\n",
              "      <td>0.300000</td>\n",
              "      <td>0.475000</td>\n",
              "      <td>Positive</td>\n",
              "    </tr>\n",
              "    <tr>\n",
              "      <th>3</th>\n",
              "      <td>[purchas, happi, soft, found,2, hole, insid, l...</td>\n",
              "      <td>0.187500</td>\n",
              "      <td>0.687500</td>\n",
              "      <td>Positive</td>\n",
              "    </tr>\n",
              "    <tr>\n",
              "      <th>4</th>\n",
              "      <td>[bought, soninlaw, put, soon, got, packag, love]</td>\n",
              "      <td>0.700000</td>\n",
              "      <td>0.800000</td>\n",
              "      <td>Positive</td>\n",
              "    </tr>\n",
              "    <tr>\n",
              "      <th>...</th>\n",
              "      <td>...</td>\n",
              "      <td>...</td>\n",
              "      <td>...</td>\n",
              "      <td>...</td>\n",
              "    </tr>\n",
              "    <tr>\n",
              "      <th>54995</th>\n",
              "      <td>[absolut, love, robe, look, like, cost,200, im...</td>\n",
              "      <td>0.182099</td>\n",
              "      <td>0.403086</td>\n",
              "      <td>Positive</td>\n",
              "    </tr>\n",
              "    <tr>\n",
              "      <th>54996</th>\n",
              "      <td>[robe, fit, true, size]</td>\n",
              "      <td>0.350000</td>\n",
              "      <td>0.650000</td>\n",
              "      <td>Positive</td>\n",
              "    </tr>\n",
              "    <tr>\n",
              "      <th>54997</th>\n",
              "      <td>[superior, satin, men, robe, great, size, good...</td>\n",
              "      <td>0.642222</td>\n",
              "      <td>0.785556</td>\n",
              "      <td>Positive</td>\n",
              "    </tr>\n",
              "    <tr>\n",
              "      <th>54998</th>\n",
              "      <td>[great, item, line]</td>\n",
              "      <td>0.800000</td>\n",
              "      <td>0.750000</td>\n",
              "      <td>Positive</td>\n",
              "    </tr>\n",
              "    <tr>\n",
              "      <th>54999</th>\n",
              "      <td>[previous, silk, robe, like, bit, small]</td>\n",
              "      <td>0.061111</td>\n",
              "      <td>0.455556</td>\n",
              "      <td>Positive</td>\n",
              "    </tr>\n",
              "  </tbody>\n",
              "</table>\n",
              "<p>52869 rows × 4 columns</p>\n",
              "</div>"
            ],
            "text/plain": [
              "                                     Customer_reviewText  polarity  \\\n",
              "0      [fit, great, hot, bulki, perfect, lounger, bea...  0.683333   \n",
              "1      [great, loung, set, color, pleas, excel, quali...  0.812500   \n",
              "2            [order, color, love, loung, setsthey, soft]  0.300000   \n",
              "3      [purchas, happi, soft, found,2, hole, insid, l...  0.187500   \n",
              "4       [bought, soninlaw, put, soon, got, packag, love]  0.700000   \n",
              "...                                                  ...       ...   \n",
              "54995  [absolut, love, robe, look, like, cost,200, im...  0.182099   \n",
              "54996                            [robe, fit, true, size]  0.350000   \n",
              "54997  [superior, satin, men, robe, great, size, good...  0.642222   \n",
              "54998                                [great, item, line]  0.800000   \n",
              "54999           [previous, silk, robe, like, bit, small]  0.061111   \n",
              "\n",
              "       subjectivity     Class  \n",
              "0          0.866667  Positive  \n",
              "1          0.937500  Positive  \n",
              "2          0.475000  Positive  \n",
              "3          0.687500  Positive  \n",
              "4          0.800000  Positive  \n",
              "...             ...       ...  \n",
              "54995      0.403086  Positive  \n",
              "54996      0.650000  Positive  \n",
              "54997      0.785556  Positive  \n",
              "54998      0.750000  Positive  \n",
              "54999      0.455556  Positive  \n",
              "\n",
              "[52869 rows x 4 columns]"
            ]
          },
          "execution_count": 29,
          "metadata": {},
          "output_type": "execute_result"
        }
      ],
      "source": [
        "df['Customer_reviewText'] = df['Customer_reviewText'].apply(lambda x: [porter.stem(y) for y in x])\n",
        "df"
      ]
    },
    {
      "cell_type": "markdown",
      "metadata": {
        "id": "c2vBhSeN6mHg"
      },
      "source": [
        "Lemmatization \n",
        "\n",
        "is the process of separating words by root"
      ]
    },
    {
      "cell_type": "code",
      "execution_count": 30,
      "metadata": {
        "id": "fR_OvUZE99uD"
      },
      "outputs": [],
      "source": [
        "from nltk.stem import WordNetLemmatizer\n",
        "#defining the object for Lemmatization\n",
        "wordnet_lemmatizer = WordNetLemmatizer()"
      ]
    },
    {
      "cell_type": "code",
      "execution_count": 31,
      "metadata": {
        "colab": {
          "base_uri": "https://localhost:8080/",
          "height": 424
        },
        "id": "Y1BsNkULajJG",
        "outputId": "0441f9da-c691-4665-ad78-3c5423630768"
      },
      "outputs": [
        {
          "data": {
            "text/html": [
              "<div>\n",
              "<style scoped>\n",
              "    .dataframe tbody tr th:only-of-type {\n",
              "        vertical-align: middle;\n",
              "    }\n",
              "\n",
              "    .dataframe tbody tr th {\n",
              "        vertical-align: top;\n",
              "    }\n",
              "\n",
              "    .dataframe thead th {\n",
              "        text-align: right;\n",
              "    }\n",
              "</style>\n",
              "<table border=\"1\" class=\"dataframe\">\n",
              "  <thead>\n",
              "    <tr style=\"text-align: right;\">\n",
              "      <th></th>\n",
              "      <th>Customer_reviewText</th>\n",
              "      <th>polarity</th>\n",
              "      <th>subjectivity</th>\n",
              "      <th>Class</th>\n",
              "    </tr>\n",
              "  </thead>\n",
              "  <tbody>\n",
              "    <tr>\n",
              "      <th>0</th>\n",
              "      <td>[fit, great, hot, bulki, perfect, lounger, bea...</td>\n",
              "      <td>0.683333</td>\n",
              "      <td>0.866667</td>\n",
              "      <td>Positive</td>\n",
              "    </tr>\n",
              "    <tr>\n",
              "      <th>1</th>\n",
              "      <td>[great, loung, set, color, plea, excel, qualit...</td>\n",
              "      <td>0.812500</td>\n",
              "      <td>0.937500</td>\n",
              "      <td>Positive</td>\n",
              "    </tr>\n",
              "    <tr>\n",
              "      <th>2</th>\n",
              "      <td>[order, color, love, loung, setsthey, soft]</td>\n",
              "      <td>0.300000</td>\n",
              "      <td>0.475000</td>\n",
              "      <td>Positive</td>\n",
              "    </tr>\n",
              "    <tr>\n",
              "      <th>3</th>\n",
              "      <td>[purchas, happi, soft, found,2, hole, insid, l...</td>\n",
              "      <td>0.187500</td>\n",
              "      <td>0.687500</td>\n",
              "      <td>Positive</td>\n",
              "    </tr>\n",
              "    <tr>\n",
              "      <th>4</th>\n",
              "      <td>[bought, soninlaw, put, soon, got, packag, love]</td>\n",
              "      <td>0.700000</td>\n",
              "      <td>0.800000</td>\n",
              "      <td>Positive</td>\n",
              "    </tr>\n",
              "    <tr>\n",
              "      <th>...</th>\n",
              "      <td>...</td>\n",
              "      <td>...</td>\n",
              "      <td>...</td>\n",
              "      <td>...</td>\n",
              "    </tr>\n",
              "    <tr>\n",
              "      <th>54995</th>\n",
              "      <td>[absolut, love, robe, look, like, cost,200, im...</td>\n",
              "      <td>0.182099</td>\n",
              "      <td>0.403086</td>\n",
              "      <td>Positive</td>\n",
              "    </tr>\n",
              "    <tr>\n",
              "      <th>54996</th>\n",
              "      <td>[robe, fit, true, size]</td>\n",
              "      <td>0.350000</td>\n",
              "      <td>0.650000</td>\n",
              "      <td>Positive</td>\n",
              "    </tr>\n",
              "    <tr>\n",
              "      <th>54997</th>\n",
              "      <td>[superior, satin, men, robe, great, size, good...</td>\n",
              "      <td>0.642222</td>\n",
              "      <td>0.785556</td>\n",
              "      <td>Positive</td>\n",
              "    </tr>\n",
              "    <tr>\n",
              "      <th>54998</th>\n",
              "      <td>[great, item, line]</td>\n",
              "      <td>0.800000</td>\n",
              "      <td>0.750000</td>\n",
              "      <td>Positive</td>\n",
              "    </tr>\n",
              "    <tr>\n",
              "      <th>54999</th>\n",
              "      <td>[previous, silk, robe, like, bit, small]</td>\n",
              "      <td>0.061111</td>\n",
              "      <td>0.455556</td>\n",
              "      <td>Positive</td>\n",
              "    </tr>\n",
              "  </tbody>\n",
              "</table>\n",
              "<p>52869 rows × 4 columns</p>\n",
              "</div>"
            ],
            "text/plain": [
              "                                     Customer_reviewText  polarity  \\\n",
              "0      [fit, great, hot, bulki, perfect, lounger, bea...  0.683333   \n",
              "1      [great, loung, set, color, plea, excel, qualit...  0.812500   \n",
              "2            [order, color, love, loung, setsthey, soft]  0.300000   \n",
              "3      [purchas, happi, soft, found,2, hole, insid, l...  0.187500   \n",
              "4       [bought, soninlaw, put, soon, got, packag, love]  0.700000   \n",
              "...                                                  ...       ...   \n",
              "54995  [absolut, love, robe, look, like, cost,200, im...  0.182099   \n",
              "54996                            [robe, fit, true, size]  0.350000   \n",
              "54997  [superior, satin, men, robe, great, size, good...  0.642222   \n",
              "54998                                [great, item, line]  0.800000   \n",
              "54999           [previous, silk, robe, like, bit, small]  0.061111   \n",
              "\n",
              "       subjectivity     Class  \n",
              "0          0.866667  Positive  \n",
              "1          0.937500  Positive  \n",
              "2          0.475000  Positive  \n",
              "3          0.687500  Positive  \n",
              "4          0.800000  Positive  \n",
              "...             ...       ...  \n",
              "54995      0.403086  Positive  \n",
              "54996      0.650000  Positive  \n",
              "54997      0.785556  Positive  \n",
              "54998      0.750000  Positive  \n",
              "54999      0.455556  Positive  \n",
              "\n",
              "[52869 rows x 4 columns]"
            ]
          },
          "execution_count": 31,
          "metadata": {},
          "output_type": "execute_result"
        }
      ],
      "source": [
        "df['Customer_reviewText'] = df['Customer_reviewText'].apply(lambda x: [wordnet_lemmatizer.lemmatize(y) for y in x])\n",
        "df"
      ]
    },
    {
      "cell_type": "code",
      "execution_count": 32,
      "metadata": {
        "id": "Zemv16K_TDtr"
      },
      "outputs": [],
      "source": [
        "import matplotlib.pyplot as plt"
      ]
    },
    {
      "cell_type": "code",
      "execution_count": 33,
      "metadata": {
        "colab": {
          "base_uri": "https://localhost:8080/"
        },
        "id": "eQKHi7SVSpfh",
        "outputId": "c05b59bf-1f41-428d-cdb0-a6f4fd64e088"
      },
      "outputs": [
        {
          "data": {
            "text/plain": [
              "Class\n",
              "Positive    39664\n",
              "Neutral      7161\n",
              "Negative     6044\n",
              "Name: count, dtype: int64"
            ]
          },
          "execution_count": 33,
          "metadata": {},
          "output_type": "execute_result"
        }
      ],
      "source": [
        "# distribution of the three classes\n",
        "df['Class'].value_counts()"
      ]
    },
    {
      "cell_type": "code",
      "execution_count": 34,
      "metadata": {
        "colab": {
          "base_uri": "https://localhost:8080/",
          "height": 424
        },
        "id": "VvRRKwlXkqn1",
        "outputId": "e3e06607-bae0-4ab9-c9fd-b7c36e8aaa22"
      },
      "outputs": [
        {
          "data": {
            "text/html": [
              "<div>\n",
              "<style scoped>\n",
              "    .dataframe tbody tr th:only-of-type {\n",
              "        vertical-align: middle;\n",
              "    }\n",
              "\n",
              "    .dataframe tbody tr th {\n",
              "        vertical-align: top;\n",
              "    }\n",
              "\n",
              "    .dataframe thead th {\n",
              "        text-align: right;\n",
              "    }\n",
              "</style>\n",
              "<table border=\"1\" class=\"dataframe\">\n",
              "  <thead>\n",
              "    <tr style=\"text-align: right;\">\n",
              "      <th></th>\n",
              "      <th>Customer_reviewText</th>\n",
              "      <th>polarity</th>\n",
              "      <th>subjectivity</th>\n",
              "      <th>Class</th>\n",
              "    </tr>\n",
              "  </thead>\n",
              "  <tbody>\n",
              "    <tr>\n",
              "      <th>0</th>\n",
              "      <td>[fit, great, hot, bulki, perfect, lounger, bea...</td>\n",
              "      <td>0.683333</td>\n",
              "      <td>0.866667</td>\n",
              "      <td>Positive</td>\n",
              "    </tr>\n",
              "    <tr>\n",
              "      <th>1</th>\n",
              "      <td>[great, loung, set, color, plea, excel, qualit...</td>\n",
              "      <td>0.812500</td>\n",
              "      <td>0.937500</td>\n",
              "      <td>Positive</td>\n",
              "    </tr>\n",
              "    <tr>\n",
              "      <th>2</th>\n",
              "      <td>[order, color, love, loung, setsthey, soft]</td>\n",
              "      <td>0.300000</td>\n",
              "      <td>0.475000</td>\n",
              "      <td>Positive</td>\n",
              "    </tr>\n",
              "    <tr>\n",
              "      <th>3</th>\n",
              "      <td>[purchas, happi, soft, found,2, hole, insid, l...</td>\n",
              "      <td>0.187500</td>\n",
              "      <td>0.687500</td>\n",
              "      <td>Positive</td>\n",
              "    </tr>\n",
              "    <tr>\n",
              "      <th>4</th>\n",
              "      <td>[bought, soninlaw, put, soon, got, packag, love]</td>\n",
              "      <td>0.700000</td>\n",
              "      <td>0.800000</td>\n",
              "      <td>Positive</td>\n",
              "    </tr>\n",
              "    <tr>\n",
              "      <th>...</th>\n",
              "      <td>...</td>\n",
              "      <td>...</td>\n",
              "      <td>...</td>\n",
              "      <td>...</td>\n",
              "    </tr>\n",
              "    <tr>\n",
              "      <th>25174</th>\n",
              "      <td>[kind, hokey, tri, felt, bulki, though, realli...</td>\n",
              "      <td>0.400000</td>\n",
              "      <td>0.550000</td>\n",
              "      <td>Positive</td>\n",
              "    </tr>\n",
              "    <tr>\n",
              "      <th>25175</th>\n",
              "      <td>[idea, behind, product, great]</td>\n",
              "      <td>0.200000</td>\n",
              "      <td>0.725000</td>\n",
              "      <td>Positive</td>\n",
              "    </tr>\n",
              "    <tr>\n",
              "      <th>25177</th>\n",
              "      <td>[realli, small, good, im, sure, could, fit, go...</td>\n",
              "      <td>0.250000</td>\n",
              "      <td>0.511111</td>\n",
              "      <td>Positive</td>\n",
              "    </tr>\n",
              "    <tr>\n",
              "      <th>25178</th>\n",
              "      <td>[got, beig, trip, nyci, guess, didnt, think, p...</td>\n",
              "      <td>0.348148</td>\n",
              "      <td>0.462963</td>\n",
              "      <td>Positive</td>\n",
              "    </tr>\n",
              "    <tr>\n",
              "      <th>25179</th>\n",
              "      <td>[15, yr, old, daughter, got, trip, spain, avoi...</td>\n",
              "      <td>0.100000</td>\n",
              "      <td>0.200000</td>\n",
              "      <td>Positive</td>\n",
              "    </tr>\n",
              "  </tbody>\n",
              "</table>\n",
              "<p>18400 rows × 4 columns</p>\n",
              "</div>"
            ],
            "text/plain": [
              "                                     Customer_reviewText  polarity  \\\n",
              "0      [fit, great, hot, bulki, perfect, lounger, bea...  0.683333   \n",
              "1      [great, loung, set, color, plea, excel, qualit...  0.812500   \n",
              "2            [order, color, love, loung, setsthey, soft]  0.300000   \n",
              "3      [purchas, happi, soft, found,2, hole, insid, l...  0.187500   \n",
              "4       [bought, soninlaw, put, soon, got, packag, love]  0.700000   \n",
              "...                                                  ...       ...   \n",
              "25174  [kind, hokey, tri, felt, bulki, though, realli...  0.400000   \n",
              "25175                     [idea, behind, product, great]  0.200000   \n",
              "25177  [realli, small, good, im, sure, could, fit, go...  0.250000   \n",
              "25178  [got, beig, trip, nyci, guess, didnt, think, p...  0.348148   \n",
              "25179  [15, yr, old, daughter, got, trip, spain, avoi...  0.100000   \n",
              "\n",
              "       subjectivity     Class  \n",
              "0          0.866667  Positive  \n",
              "1          0.937500  Positive  \n",
              "2          0.475000  Positive  \n",
              "3          0.687500  Positive  \n",
              "4          0.800000  Positive  \n",
              "...             ...       ...  \n",
              "25174      0.550000  Positive  \n",
              "25175      0.725000  Positive  \n",
              "25177      0.511111  Positive  \n",
              "25178      0.462963  Positive  \n",
              "25179      0.200000  Positive  \n",
              "\n",
              "[18400 rows x 4 columns]"
            ]
          },
          "execution_count": 34,
          "metadata": {},
          "output_type": "execute_result"
        }
      ],
      "source": [
        "pcomment = df[df.Class == 'Positive'][:18400]\n",
        "pcomment"
      ]
    },
    {
      "cell_type": "code",
      "execution_count": 35,
      "metadata": {
        "colab": {
          "base_uri": "https://localhost:8080/",
          "height": 424
        },
        "id": "eLOwAnQ4fZcS",
        "outputId": "8918394a-438d-4239-d27e-1abed57bc55a"
      },
      "outputs": [
        {
          "data": {
            "text/html": [
              "<div>\n",
              "<style scoped>\n",
              "    .dataframe tbody tr th:only-of-type {\n",
              "        vertical-align: middle;\n",
              "    }\n",
              "\n",
              "    .dataframe tbody tr th {\n",
              "        vertical-align: top;\n",
              "    }\n",
              "\n",
              "    .dataframe thead th {\n",
              "        text-align: right;\n",
              "    }\n",
              "</style>\n",
              "<table border=\"1\" class=\"dataframe\">\n",
              "  <thead>\n",
              "    <tr style=\"text-align: right;\">\n",
              "      <th></th>\n",
              "      <th>Customer_reviewText</th>\n",
              "      <th>polarity</th>\n",
              "      <th>subjectivity</th>\n",
              "      <th>Class</th>\n",
              "    </tr>\n",
              "  </thead>\n",
              "  <tbody>\n",
              "    <tr>\n",
              "      <th>15</th>\n",
              "      <td>[unlik, review]</td>\n",
              "      <td>-0.125000</td>\n",
              "      <td>0.375000</td>\n",
              "      <td>Negative</td>\n",
              "    </tr>\n",
              "    <tr>\n",
              "      <th>22</th>\n",
              "      <td>[nice, hat, fit, size, place, put, rank, insig...</td>\n",
              "      <td>-0.010000</td>\n",
              "      <td>0.950000</td>\n",
              "      <td>Negative</td>\n",
              "    </tr>\n",
              "    <tr>\n",
              "      <th>24</th>\n",
              "      <td>[realli, like, size, bag, usual, casual, mode,...</td>\n",
              "      <td>-0.065000</td>\n",
              "      <td>0.661667</td>\n",
              "      <td>Negative</td>\n",
              "    </tr>\n",
              "    <tr>\n",
              "      <th>25</th>\n",
              "      <td>[use, le, sportsac, bag, swim, gear, love, sta...</td>\n",
              "      <td>-0.158333</td>\n",
              "      <td>0.858333</td>\n",
              "      <td>Negative</td>\n",
              "    </tr>\n",
              "    <tr>\n",
              "      <th>26</th>\n",
              "      <td>[bought, handbag, last, spring, wore, summer, ...</td>\n",
              "      <td>-0.116667</td>\n",
              "      <td>0.616667</td>\n",
              "      <td>Negative</td>\n",
              "    </tr>\n",
              "    <tr>\n",
              "      <th>...</th>\n",
              "      <td>...</td>\n",
              "      <td>...</td>\n",
              "      <td>...</td>\n",
              "      <td>...</td>\n",
              "    </tr>\n",
              "    <tr>\n",
              "      <th>54942</th>\n",
              "      <td>[ring, brighter, pictur, unlik, review]</td>\n",
              "      <td>-0.125000</td>\n",
              "      <td>0.375000</td>\n",
              "      <td>Negative</td>\n",
              "    </tr>\n",
              "    <tr>\n",
              "      <th>54947</th>\n",
              "      <td>[small, size, order, tri, wear, one, pair, tor...</td>\n",
              "      <td>-0.020833</td>\n",
              "      <td>0.369444</td>\n",
              "      <td>Negative</td>\n",
              "    </tr>\n",
              "    <tr>\n",
              "      <th>54958</th>\n",
              "      <td>[look, silk, boxer, store, day, difficult, fou...</td>\n",
              "      <td>-0.107143</td>\n",
              "      <td>0.767857</td>\n",
              "      <td>Negative</td>\n",
              "    </tr>\n",
              "    <tr>\n",
              "      <th>54966</th>\n",
              "      <td>[order, think, silk, stupid, realli, disappoin...</td>\n",
              "      <td>-0.343333</td>\n",
              "      <td>0.886667</td>\n",
              "      <td>Negative</td>\n",
              "    </tr>\n",
              "    <tr>\n",
              "      <th>54975</th>\n",
              "      <td>[bought, husband, post, op, recoveri, sinc, go...</td>\n",
              "      <td>-0.100000</td>\n",
              "      <td>0.050000</td>\n",
              "      <td>Negative</td>\n",
              "    </tr>\n",
              "  </tbody>\n",
              "</table>\n",
              "<p>6044 rows × 4 columns</p>\n",
              "</div>"
            ],
            "text/plain": [
              "                                     Customer_reviewText  polarity  \\\n",
              "15                                       [unlik, review] -0.125000   \n",
              "22     [nice, hat, fit, size, place, put, rank, insig... -0.010000   \n",
              "24     [realli, like, size, bag, usual, casual, mode,... -0.065000   \n",
              "25     [use, le, sportsac, bag, swim, gear, love, sta... -0.158333   \n",
              "26     [bought, handbag, last, spring, wore, summer, ... -0.116667   \n",
              "...                                                  ...       ...   \n",
              "54942            [ring, brighter, pictur, unlik, review] -0.125000   \n",
              "54947  [small, size, order, tri, wear, one, pair, tor... -0.020833   \n",
              "54958  [look, silk, boxer, store, day, difficult, fou... -0.107143   \n",
              "54966  [order, think, silk, stupid, realli, disappoin... -0.343333   \n",
              "54975  [bought, husband, post, op, recoveri, sinc, go... -0.100000   \n",
              "\n",
              "       subjectivity     Class  \n",
              "15         0.375000  Negative  \n",
              "22         0.950000  Negative  \n",
              "24         0.661667  Negative  \n",
              "25         0.858333  Negative  \n",
              "26         0.616667  Negative  \n",
              "...             ...       ...  \n",
              "54942      0.375000  Negative  \n",
              "54947      0.369444  Negative  \n",
              "54958      0.767857  Negative  \n",
              "54966      0.886667  Negative  \n",
              "54975      0.050000  Negative  \n",
              "\n",
              "[6044 rows x 4 columns]"
            ]
          },
          "execution_count": 35,
          "metadata": {},
          "output_type": "execute_result"
        }
      ],
      "source": [
        "ncomment = df[df.Class == 'Negative']\n",
        "ncomment"
      ]
    },
    {
      "cell_type": "code",
      "execution_count": 36,
      "metadata": {
        "colab": {
          "base_uri": "https://localhost:8080/",
          "height": 424
        },
        "id": "8fECXzrA4P4T",
        "outputId": "bcbd6299-e1d6-45c9-969e-e11a0603e919"
      },
      "outputs": [
        {
          "data": {
            "text/html": [
              "<div>\n",
              "<style scoped>\n",
              "    .dataframe tbody tr th:only-of-type {\n",
              "        vertical-align: middle;\n",
              "    }\n",
              "\n",
              "    .dataframe tbody tr th {\n",
              "        vertical-align: top;\n",
              "    }\n",
              "\n",
              "    .dataframe thead th {\n",
              "        text-align: right;\n",
              "    }\n",
              "</style>\n",
              "<table border=\"1\" class=\"dataframe\">\n",
              "  <thead>\n",
              "    <tr style=\"text-align: right;\">\n",
              "      <th></th>\n",
              "      <th>Customer_reviewText</th>\n",
              "      <th>polarity</th>\n",
              "      <th>subjectivity</th>\n",
              "      <th>Class</th>\n",
              "    </tr>\n",
              "  </thead>\n",
              "  <tbody>\n",
              "    <tr>\n",
              "      <th>8</th>\n",
              "      <td>[like, wear]</td>\n",
              "      <td>0.0</td>\n",
              "      <td>0.000000</td>\n",
              "      <td>Neutral</td>\n",
              "    </tr>\n",
              "    <tr>\n",
              "      <th>31</th>\n",
              "      <td>[like, bag, dont, chintz]</td>\n",
              "      <td>0.0</td>\n",
              "      <td>0.000000</td>\n",
              "      <td>Neutral</td>\n",
              "    </tr>\n",
              "    <tr>\n",
              "      <th>32</th>\n",
              "      <td>[bought, bag, differ, design, fabric, australia]</td>\n",
              "      <td>0.0</td>\n",
              "      <td>0.362500</td>\n",
              "      <td>Neutral</td>\n",
              "    </tr>\n",
              "    <tr>\n",
              "      <th>58</th>\n",
              "      <td>[espectacular, sunglass]</td>\n",
              "      <td>0.0</td>\n",
              "      <td>0.000000</td>\n",
              "      <td>Neutral</td>\n",
              "    </tr>\n",
              "    <tr>\n",
              "      <th>59</th>\n",
              "      <td>[feel, solid]</td>\n",
              "      <td>0.0</td>\n",
              "      <td>0.100000</td>\n",
              "      <td>Neutral</td>\n",
              "    </tr>\n",
              "    <tr>\n",
              "      <th>...</th>\n",
              "      <td>...</td>\n",
              "      <td>...</td>\n",
              "      <td>...</td>\n",
              "      <td>...</td>\n",
              "    </tr>\n",
              "    <tr>\n",
              "      <th>54945</th>\n",
              "      <td>[ring, oval]</td>\n",
              "      <td>0.0</td>\n",
              "      <td>0.000000</td>\n",
              "      <td>Neutral</td>\n",
              "    </tr>\n",
              "    <tr>\n",
              "      <th>54955</th>\n",
              "      <td>[bought, boxer, short, dad, hospit, heart, con...</td>\n",
              "      <td>0.0</td>\n",
              "      <td>0.000000</td>\n",
              "      <td>Neutral</td>\n",
              "    </tr>\n",
              "    <tr>\n",
              "      <th>54959</th>\n",
              "      <td>[like, product, receiv]</td>\n",
              "      <td>0.0</td>\n",
              "      <td>0.000000</td>\n",
              "      <td>Neutral</td>\n",
              "    </tr>\n",
              "    <tr>\n",
              "      <th>54963</th>\n",
              "      <td>[got, one, set, father, last, year, sleep, tsh...</td>\n",
              "      <td>0.0</td>\n",
              "      <td>0.066667</td>\n",
              "      <td>Neutral</td>\n",
              "    </tr>\n",
              "    <tr>\n",
              "      <th>54981</th>\n",
              "      <td>[husband, love, item]</td>\n",
              "      <td>0.0</td>\n",
              "      <td>0.000000</td>\n",
              "      <td>Neutral</td>\n",
              "    </tr>\n",
              "  </tbody>\n",
              "</table>\n",
              "<p>7161 rows × 4 columns</p>\n",
              "</div>"
            ],
            "text/plain": [
              "                                     Customer_reviewText  polarity  \\\n",
              "8                                           [like, wear]       0.0   \n",
              "31                             [like, bag, dont, chintz]       0.0   \n",
              "32      [bought, bag, differ, design, fabric, australia]       0.0   \n",
              "58                              [espectacular, sunglass]       0.0   \n",
              "59                                         [feel, solid]       0.0   \n",
              "...                                                  ...       ...   \n",
              "54945                                       [ring, oval]       0.0   \n",
              "54955  [bought, boxer, short, dad, hospit, heart, con...       0.0   \n",
              "54959                            [like, product, receiv]       0.0   \n",
              "54963  [got, one, set, father, last, year, sleep, tsh...       0.0   \n",
              "54981                              [husband, love, item]       0.0   \n",
              "\n",
              "       subjectivity    Class  \n",
              "8          0.000000  Neutral  \n",
              "31         0.000000  Neutral  \n",
              "32         0.362500  Neutral  \n",
              "58         0.000000  Neutral  \n",
              "59         0.100000  Neutral  \n",
              "...             ...      ...  \n",
              "54945      0.000000  Neutral  \n",
              "54955      0.000000  Neutral  \n",
              "54959      0.000000  Neutral  \n",
              "54963      0.066667  Neutral  \n",
              "54981      0.000000  Neutral  \n",
              "\n",
              "[7161 rows x 4 columns]"
            ]
          },
          "execution_count": 36,
          "metadata": {},
          "output_type": "execute_result"
        }
      ],
      "source": [
        "Neucomment = df[df.Class == 'Neutral']\n",
        "Neucomment"
      ]
    },
    {
      "cell_type": "code",
      "execution_count": 37,
      "metadata": {
        "id": "qH-KiXj274-G"
      },
      "outputs": [],
      "source": [
        "df = pd.concat([pcomment,ncomment,Neucomment], axis = 0)"
      ]
    },
    {
      "cell_type": "code",
      "execution_count": 38,
      "metadata": {
        "colab": {
          "base_uri": "https://localhost:8080/"
        },
        "id": "GgeeOOE68sKg",
        "outputId": "5655bec4-7287-49ac-f352-ef67686f210b"
      },
      "outputs": [
        {
          "data": {
            "text/plain": [
              "Class\n",
              "Positive    18400\n",
              "Neutral      7161\n",
              "Negative     6044\n",
              "Name: count, dtype: int64"
            ]
          },
          "execution_count": 38,
          "metadata": {},
          "output_type": "execute_result"
        }
      ],
      "source": [
        "df.Class.value_counts()"
      ]
    },
    {
      "cell_type": "code",
      "execution_count": 39,
      "metadata": {
        "id": "7lj2zUIjRAxJ"
      },
      "outputs": [],
      "source": [
        "import seaborn as sns"
      ]
    },
    {
      "cell_type": "code",
      "execution_count": 40,
      "metadata": {
        "colab": {
          "base_uri": "https://localhost:8080/",
          "height": 272
        },
        "id": "xmUMWaN5Q4_p",
        "outputId": "e3b434cb-c03f-4261-a7b3-b3caeb0d944f"
      },
      "outputs": [
        {
          "data": {
            "image/png": "[encoded data removed]",
            "text/plain": [
              "<Figure size 900x300 with 1 Axes>"
            ]
          },
          "metadata": {},
          "output_type": "display_data"
        }
      ],
      "source": [
        "sns.set(font_scale=1.4)\n",
        "df['Class'].value_counts().plot(kind='barh', figsize=(9, 3))\n",
        "plt.xlabel(\"Number of Comments\", labelpad=12)\n",
        "plt.ylabel(\"Sentiment Class\", labelpad=12)\n",
        "plt.yticks(rotation = 45)\n",
        "plt.title(\"Dataset Distribution\", y=1.02);"
      ]
    },
    {
      "cell_type": "markdown",
      "metadata": {
        "id": "KN2Ph2LgbXV8"
      },
      "source": [
        "LabelEncoder"
      ]
    },
    {
      "cell_type": "code",
      "execution_count": 41,
      "metadata": {
        "colab": {
          "base_uri": "https://localhost:8080/"
        },
        "id": "f5aBzLrk-rE5",
        "outputId": "82b25e82-8722-45a2-c167-5dd00b715490"
      },
      "outputs": [
        {
          "data": {
            "text/plain": [
              "0        2\n",
              "1        2\n",
              "2        2\n",
              "3        2\n",
              "4        2\n",
              "        ..\n",
              "54945    1\n",
              "54955    1\n",
              "54959    1\n",
              "54963    1\n",
              "54981    1\n",
              "Name: Class, Length: 31605, dtype: int64"
            ]
          },
          "execution_count": 41,
          "metadata": {},
          "output_type": "execute_result"
        }
      ],
      "source": [
        "from sklearn.preprocessing import LabelEncoder\n",
        "df['Class'] = LabelEncoder().fit_transform(df['Class'])\n",
        "df['Class']"
      ]
    },
    {
      "cell_type": "code",
      "execution_count": 42,
      "metadata": {
        "colab": {
          "base_uri": "https://localhost:8080/"
        },
        "id": "nBSuqBFDdogo",
        "outputId": "aa7f00bb-9f82-44fe-9c18-88699dd8a5ff"
      },
      "outputs": [
        {
          "data": {
            "text/plain": [
              "0        ['fit', 'great', 'hot', 'bulki', 'perfect', 'l...\n",
              "1        ['great', 'loung', 'set', 'color', 'plea', 'ex...\n",
              "2        ['order', 'color', 'love', 'loung', 'setsthey'...\n",
              "3        ['purchas', 'happi', 'soft', 'found,2', 'hole'...\n",
              "4        ['bought', 'soninlaw', 'put', 'soon', 'got', '...\n",
              "                               ...                        \n",
              "54945                                     ['ring', 'oval']\n",
              "54955    ['bought', 'boxer', 'short', 'dad', 'hospit', ...\n",
              "54959                        ['like', 'product', 'receiv']\n",
              "54963    ['got', 'one', 'set', 'father', 'last', 'year'...\n",
              "54981                          ['husband', 'love', 'item']\n",
              "Name: Customer_reviewText, Length: 31605, dtype: object"
            ]
          },
          "execution_count": 42,
          "metadata": {},
          "output_type": "execute_result"
        }
      ],
      "source": [
        "df['Customer_reviewText'] = df['Customer_reviewText'].astype(str)\n",
        "df['Customer_reviewText']"
      ]
    },
    {
      "cell_type": "code",
      "execution_count": 43,
      "metadata": {
        "id": "xDuv8kGbA5mi"
      },
      "outputs": [],
      "source": [
        "x = df.Customer_reviewText.values\n",
        "y= df.Class.values\n"
      ]
    },
    {
      "cell_type": "code",
      "execution_count": 44,
      "metadata": {
        "colab": {
          "base_uri": "https://localhost:8080/"
        },
        "id": "8MmS1sI-SFgY",
        "outputId": "3c4c098b-e9b9-40e4-d8a9-1771c7f54138"
      },
      "outputs": [
        {
          "data": {
            "text/plain": [
              "((31605,), (31605,))"
            ]
          },
          "execution_count": 44,
          "metadata": {},
          "output_type": "execute_result"
        }
      ],
      "source": [
        "x.shape,y.shape"
      ]
    },
    {
      "cell_type": "markdown",
      "metadata": {
        "id": "eQnuRzTebti8"
      },
      "source": [
        "Feature Extraction"
      ]
    },
    {
      "cell_type": "code",
      "execution_count": 45,
      "metadata": {
        "id": "ApPDGR-V6OTp"
      },
      "outputs": [],
      "source": [
        "from sklearn.feature_extraction.text import TfidfVectorizer\n",
        "from sklearn.feature_extraction.text import CountVectorizer"
      ]
    },
    {
      "cell_type": "code",
      "execution_count": 46,
      "metadata": {
        "id": "YSm4waEZ6T4S"
      },
      "outputs": [],
      "source": [
        "# Create a TF-IDF Vectorizer\n",
        "tf_vector =  TfidfVectorizer()\n",
        "tf_x = tf_vector.fit(x)\n",
        "tf_x = tf_x.transform(x)\n",
        "\n",
        "# Create a CountVectorizer\n",
        "vectorizer = CountVectorizer()\n",
        "vector_fit =  vectorizer.fit(x)\n",
        "vector_test = vectorizer.transform(x)"
      ]
    },
    {
      "cell_type": "code",
      "execution_count": 47,
      "metadata": {
        "colab": {
          "base_uri": "https://localhost:8080/"
        },
        "id": "LKKUDJfZPmp9",
        "outputId": "28961716-b038-4dea-f673-9bec385513e4"
      },
      "outputs": [
        {
          "data": {
            "text/plain": [
              "((31605, 18289), (31605, 18289))"
            ]
          },
          "execution_count": 47,
          "metadata": {},
          "output_type": "execute_result"
        }
      ],
      "source": [
        "tf_x.shape,vector_test.shape"
      ]
    },
    {
      "cell_type": "code",
      "execution_count": 48,
      "metadata": {
        "colab": {
          "base_uri": "https://localhost:8080/"
        },
        "id": "wdxoBMVqd-sG",
        "outputId": "20ff4f4a-6fae-4eb7-b852-84b865d19a4c"
      },
      "outputs": [
        {
          "data": {
            "text/plain": [
              "array([[0., 0., 0., ..., 0., 0., 0.],\n",
              "       [0., 0., 0., ..., 0., 0., 0.],\n",
              "       [0., 0., 0., ..., 0., 0., 0.],\n",
              "       ...,\n",
              "       [0., 0., 0., ..., 0., 0., 0.],\n",
              "       [0., 0., 0., ..., 0., 0., 0.],\n",
              "       [0., 0., 0., ..., 0., 0., 0.]])"
            ]
          },
          "execution_count": 48,
          "metadata": {},
          "output_type": "execute_result"
        }
      ],
      "source": [
        "tf_x.toarray()"
      ]
    },
    {
      "cell_type": "code",
      "execution_count": 49,
      "metadata": {
        "colab": {
          "base_uri": "https://localhost:8080/"
        },
        "id": "AZfz2vKwUZ7W",
        "outputId": "23703723-66ee-4b96-e927-eb22db64f23b"
      },
      "outputs": [
        {
          "data": {
            "text/plain": [
              "array([[0, 0, 0, ..., 0, 0, 0],\n",
              "       [0, 0, 0, ..., 0, 0, 0],\n",
              "       [0, 0, 0, ..., 0, 0, 0],\n",
              "       ...,\n",
              "       [0, 0, 0, ..., 0, 0, 0],\n",
              "       [0, 0, 0, ..., 0, 0, 0],\n",
              "       [0, 0, 0, ..., 0, 0, 0]])"
            ]
          },
          "execution_count": 49,
          "metadata": {},
          "output_type": "execute_result"
        }
      ],
      "source": [
        "vector_test.toarray()"
      ]
    },
    {
      "cell_type": "markdown",
      "metadata": {
        "id": "dDWDQJMq8DGR"
      },
      "source": [
        "over_sampling"
      ]
    },
    {
      "cell_type": "code",
      "execution_count": 50,
      "metadata": {
        "colab": {
          "base_uri": "https://localhost:8080/"
        },
        "id": "8ubu7jOoxMBy",
        "outputId": "5a44a4c4-af91-483d-e3b5-17b536e72c11"
      },
      "outputs": [
        {
          "name": "stdout",
          "output_type": "stream",
          "text": [
            "[(np.int64(0), 18400), (np.int64(1), 18400), (np.int64(2), 18400)]\n"
          ]
        }
      ],
      "source": [
        "from imblearn.over_sampling import SMOTE, ADASYN\n",
        "import collections\n",
        "x_resampled, y_resampled = SMOTE().fit_resample(tf_x,y)\n",
        "print(sorted(collections.Counter(y_resampled).items()))"
      ]
    },
    {
      "cell_type": "code",
      "execution_count": 51,
      "metadata": {
        "id": "Pw61DRFi3PF1"
      },
      "outputs": [],
      "source": [
        "import matplotlib.pyplot as plt\n",
        "%matplotlib inline\n",
        "#Miscellanous libraries\n",
        "from collections import Counter"
      ]
    },
    {
      "cell_type": "code",
      "execution_count": 52,
      "metadata": {
        "colab": {
          "base_uri": "https://localhost:8080/",
          "height": 325
        },
        "id": "h8uQjXmK3UYV",
        "outputId": "ac735e6a-9abd-4424-ddab-8d6da52e2eb1"
      },
      "outputs": [
        {
          "name": "stdout",
          "output_type": "stream",
          "text": [
            "Class=2, n=18400 (58.219%)\n",
            "Class=0, n=18400 (58.219%)\n",
            "Class=1, n=18400 (58.219%)\n"
          ]
        },
        {
          "data": {
            "image/png": "[encoded data removed]",
            "text/plain": [
              "<Figure size 640x480 with 1 Axes>"
            ]
          },
          "metadata": {},
          "output_type": "display_data"
        }
      ],
      "source": [
        "counter = Counter(y_resampled)\n",
        "for k,v in counter.items():\n",
        "    per = v / len(y) * 100\n",
        "    print('Class=%d, n=%d (%.3f%%)' % (k, v, per))\n",
        "plt.bar(counter.keys(), counter.values())\n",
        "plt.show()"
      ]
    },
    {
      "cell_type": "code",
      "execution_count": 53,
      "metadata": {
        "colab": {
          "base_uri": "https://localhost:8080/"
        },
        "id": "aelG-nKbXGta",
        "outputId": "6736d389-5f3c-4a6a-b39b-5991dba193ca"
      },
      "outputs": [
        {
          "data": {
            "text/plain": [
              "((55200, 18289), (55200,))"
            ]
          },
          "execution_count": 53,
          "metadata": {},
          "output_type": "execute_result"
        }
      ],
      "source": [
        "x_resampled.shape,y_resampled.shape"
      ]
    },
    {
      "cell_type": "code",
      "execution_count": 54,
      "metadata": {
        "id": "QDTOemYgCocq"
      },
      "outputs": [],
      "source": [
        "from sklearn.model_selection import train_test_split\n",
        "X_train, X_test, y_train, y_test = train_test_split(x_resampled, y_resampled, train_size=0.80, shuffle=True, random_state=95)"
      ]
    },
    {
      "cell_type": "code",
      "execution_count": 55,
      "metadata": {
        "colab": {
          "base_uri": "https://localhost:8080/"
        },
        "id": "mrGVZaawZzA2",
        "outputId": "2e0920df-578f-44d7-fe82-5bd36ad7a08b"
      },
      "outputs": [
        {
          "data": {
            "text/plain": [
              "((44160, 18289), (11040, 18289))"
            ]
          },
          "execution_count": 55,
          "metadata": {},
          "output_type": "execute_result"
        }
      ],
      "source": [
        "X_train.shape, X_test.shape"
      ]
    },
    {
      "cell_type": "code",
      "execution_count": 56,
      "metadata": {
        "colab": {
          "base_uri": "https://localhost:8080/"
        },
        "id": "bwon2NfODUNW",
        "outputId": "0a47d92b-9dbd-4efa-a6e4-514275fd9cc0"
      },
      "outputs": [
        {
          "data": {
            "text/plain": [
              "(11040,)"
            ]
          },
          "execution_count": 56,
          "metadata": {},
          "output_type": "execute_result"
        }
      ],
      "source": [
        "y_test.shape"
      ]
    },
    {
      "cell_type": "markdown",
      "metadata": {
        "id": "OZJ5i_rjEsBO"
      },
      "source": [
        "ML Algorithm"
      ]
    },
    {
      "cell_type": "markdown",
      "metadata": {
        "id": "oYCqwGay4OTL"
      },
      "source": [
        "Random Forest Classifier"
      ]
    },
    {
      "cell_type": "code",
      "execution_count": 57,
      "metadata": {
        "colab": {
          "base_uri": "https://localhost:8080/"
        },
        "id": "7RM80NTx4eiH",
        "outputId": "e4e8a5a9-e9e1-4955-af2f-8903777feb67"
      },
      "outputs": [
        {
          "data": {
            "text/plain": [
              "0.9340579710144927"
            ]
          },
          "execution_count": 57,
          "metadata": {},
          "output_type": "execute_result"
        }
      ],
      "source": [
        "from sklearn.ensemble import RandomForestClassifier\n",
        "rf = RandomForestClassifier()\n",
        "#Model fitting\n",
        "rf.fit(X_train,y_train)\n",
        " \n",
        "#testing the model\n",
        "rf.score(X_test,y_test)"
      ]
    },
    {
      "cell_type": "code",
      "execution_count": 58,
      "metadata": {
        "id": "MWXvAx8F43O9"
      },
      "outputs": [],
      "source": [
        "pred = rf.predict(X_test) "
      ]
    },
    {
      "cell_type": "code",
      "execution_count": 59,
      "metadata": {
        "colab": {
          "base_uri": "https://localhost:8080/"
        },
        "id": "G-2kM9Gl45fe",
        "outputId": "9dc93241-38c8-43ff-c894-d0012d85a710"
      },
      "outputs": [
        {
          "name": "stdout",
          "output_type": "stream",
          "text": [
            "Input Text: i love the product\n",
            "positive\n"
          ]
        }
      ],
      "source": [
        "# comment=['Bad qualilty..... material qualilty is very poor',\n",
        "#          'Best service ever. On time, products as promised. Great quality.',\n",
        "#          'I buy this product from bangladesh']\n",
        "comment = input()\n",
        "print(\"Input Text:\",comment)\n",
        "tf1_comment = tf_vector.transform([comment])\n",
        "result = rf.predict(tf1_comment)\n",
        "if result[0] == 1:\n",
        "  print('neutral')\n",
        "elif result[0] == 0:\n",
        "  print('negative')\n",
        "else:\n",
        "  print('positive')"
      ]
    },
    {
      "cell_type": "markdown",
      "metadata": {
        "id": "yQhYaOEe5AjD"
      },
      "source": [
        "Confusion Matrix"
      ]
    },
    {
      "cell_type": "code",
      "execution_count": 60,
      "metadata": {
        "id": "Pe69l-xQ5F5h"
      },
      "outputs": [],
      "source": [
        "from sklearn.metrics import accuracy_score, confusion_matrix, precision_recall_fscore_support,classification_report "
      ]
    },
    {
      "cell_type": "code",
      "execution_count": 61,
      "metadata": {
        "colab": {
          "base_uri": "https://localhost:8080/"
        },
        "id": "voK8lJF75SLr",
        "outputId": "720277b4-72d2-4662-8373-77f38e5ee9d1"
      },
      "outputs": [
        {
          "name": "stdout",
          "output_type": "stream",
          "text": [
            "              precision    recall  f1-score   support\n",
            "\n",
            "           0       0.93      0.94      0.94      3646\n",
            "           1       0.92      0.97      0.95      3722\n",
            "           2       0.96      0.88      0.92      3672\n",
            "\n",
            "    accuracy                           0.93     11040\n",
            "   macro avg       0.93      0.93      0.93     11040\n",
            "weighted avg       0.93      0.93      0.93     11040\n",
            "\n"
          ]
        }
      ],
      "source": [
        "print(classification_report(y_test,pred))"
      ]
    },
    {
      "cell_type": "code",
      "execution_count": 62,
      "metadata": {
        "id": "0qKmBxIwd4sO"
      },
      "outputs": [],
      "source": [
        "from sklearn.metrics import confusion_matrix\n",
        "import seaborn as sns"
      ]
    },
    {
      "cell_type": "code",
      "execution_count": 63,
      "metadata": {
        "colab": {
          "base_uri": "https://localhost:8080/",
          "height": 290
        },
        "id": "Bbw7M-_Wd9IP",
        "outputId": "84735730-02e7-4890-ba98-a6b1dabdff89"
      },
      "outputs": [
        {
          "data": {
            "text/plain": [
              "<Axes: >"
            ]
          },
          "execution_count": 63,
          "metadata": {},
          "output_type": "execute_result"
        },
        {
          "data": {
            "image/png": "[encoded data removed]",
            "text/plain": [
              "<Figure size 640x480 with 2 Axes>"
            ]
          },
          "metadata": {},
          "output_type": "display_data"
        }
      ],
      "source": [
        "conf_m = confusion_matrix(y_test, pred)\n",
        "sns.heatmap(conf_m, linewidths=1, annot=True, fmt='g')"
      ]
    },
    {
      "cell_type": "markdown",
      "metadata": {
        "id": "NemYj9Vs5_qt"
      },
      "source": [
        "Support Vector Machine"
      ]
    },
    {
      "cell_type": "code",
      "execution_count": 64,
      "metadata": {
        "id": "ewHa-n2o6J51"
      },
      "outputs": [],
      "source": [
        "from sklearn.svm import SVC"
      ]
    },
    {
      "cell_type": "code",
      "execution_count": 65,
      "metadata": {
        "id": "lCnfMqzF6Kvt"
      },
      "outputs": [],
      "source": [
        "model_svm = SVC()"
      ]
    },
    {
      "cell_type": "code",
      "execution_count": 66,
      "metadata": {
        "colab": {
          "base_uri": "https://localhost:8080/"
        },
        "id": "XeCJCPLNeFKt",
        "outputId": "b138729c-3682-4284-d329-93e41762e9a2"
      },
      "outputs": [
        {
          "data": {
            "text/plain": [
              "0.9311594202898551"
            ]
          },
          "execution_count": 66,
          "metadata": {},
          "output_type": "execute_result"
        }
      ],
      "source": [
        "model_svm.fit(X_train,y_train)\n",
        "model_svm.score(X_test,y_test)"
      ]
    },
    {
      "cell_type": "code",
      "execution_count": 67,
      "metadata": {
        "id": "G6qVh6wn6iMi"
      },
      "outputs": [],
      "source": [
        "pred = model_svm.predict(X_test)"
      ]
    },
    {
      "cell_type": "code",
      "execution_count": null,
      "metadata": {
        "colab": {
          "base_uri": "https://localhost:8080/"
        },
        "id": "rADJAMS-6mM9",
        "outputId": "d607c9a2-7ef7-44c4-ccab-8487bdc4da66"
      },
      "outputs": [
        {
          "data": {
            "text/plain": [
              "array([0, 2, 1])"
            ]
          },
          "execution_count": 68,
          "metadata": {},
          "output_type": "execute_result"
        }
      ],
      "source": [
        "comment=['this product is poor','Product is very good, fit is good','where the product is produced']\n",
        "tf1_comment = tf_vector.transform(comment)\n",
        "model_svm.predict(tf1_comment)"
      ]
    },
    {
      "cell_type": "markdown",
      "metadata": {
        "id": "0l0D2ckG6u_D"
      },
      "source": [
        "Confusion Matrix"
      ]
    },
    {
      "cell_type": "code",
      "execution_count": 69,
      "metadata": {
        "colab": {
          "base_uri": "https://localhost:8080/"
        },
        "id": "On28AhSq6zgD",
        "outputId": "044e9fa3-2205-45ae-ba76-5ae22df55107"
      },
      "outputs": [
        {
          "name": "stdout",
          "output_type": "stream",
          "text": [
            "              precision    recall  f1-score   support\n",
            "\n",
            "           0       0.95      0.90      0.92      3646\n",
            "           1       0.91      0.97      0.94      3722\n",
            "           2       0.94      0.92      0.93      3672\n",
            "\n",
            "    accuracy                           0.93     11040\n",
            "   macro avg       0.93      0.93      0.93     11040\n",
            "weighted avg       0.93      0.93      0.93     11040\n",
            "\n"
          ]
        }
      ],
      "source": [
        "print(classification_report(y_test,pred))"
      ]
    },
    {
      "cell_type": "code",
      "execution_count": 70,
      "metadata": {
        "colab": {
          "base_uri": "https://localhost:8080/",
          "height": 290
        },
        "id": "Ah6SK4jig1CR",
        "outputId": "6a04ee92-b2b8-414f-aac7-412e523a592f"
      },
      "outputs": [
        {
          "data": {
            "text/plain": [
              "<Axes: >"
            ]
          },
          "execution_count": 70,
          "metadata": {},
          "output_type": "execute_result"
        },
        {
          "data": {
            "image/png": "[encoded data removed]",
            "text/plain": [
              "<Figure size 640x480 with 2 Axes>"
            ]
          },
          "metadata": {},
          "output_type": "display_data"
        }
      ],
      "source": [
        "conf_m = confusion_matrix(y_test, pred)\n",
        "sns.heatmap(conf_m, linewidths=1, annot=True, fmt='g')"
      ]
    },
    {
      "cell_type": "markdown",
      "metadata": {
        "id": "Grju_4Gp7es7"
      },
      "source": [
        "Decision Tree Classifier"
      ]
    },
    {
      "cell_type": "code",
      "execution_count": 71,
      "metadata": {
        "id": "QaK3sNyZ7m0j"
      },
      "outputs": [],
      "source": [
        "from sklearn.tree import DecisionTreeClassifier"
      ]
    },
    {
      "cell_type": "code",
      "execution_count": 72,
      "metadata": {
        "colab": {
          "base_uri": "https://localhost:8080/"
        },
        "id": "zHFImDYD7o_a",
        "outputId": "860803f6-edcc-4a5f-d532-6aada393d7e9"
      },
      "outputs": [
        {
          "data": {
            "text/plain": [
              "0.895018115942029"
            ]
          },
          "execution_count": 72,
          "metadata": {},
          "output_type": "execute_result"
        }
      ],
      "source": [
        "classifier = DecisionTreeClassifier()\n",
        "classifier.fit(X_train, y_train)\n",
        "classifier.score(X_test,y_test)"
      ]
    },
    {
      "cell_type": "code",
      "execution_count": 73,
      "metadata": {
        "id": "lTYilnmZ7z9V"
      },
      "outputs": [],
      "source": [
        "pred = classifier.predict(X_test)"
      ]
    },
    {
      "cell_type": "code",
      "execution_count": 74,
      "metadata": {
        "colab": {
          "base_uri": "https://localhost:8080/"
        },
        "id": "7fDjFhoJ8JGk",
        "outputId": "27f4fc83-19b0-462f-94b9-1c24e3ad03db"
      },
      "outputs": [
        {
          "data": {
            "text/plain": [
              "array([0, 2, 1])"
            ]
          },
          "execution_count": 74,
          "metadata": {},
          "output_type": "execute_result"
        }
      ],
      "source": [
        "comment=['this product is poor quality','After trying many products of different brands, this one is the best!!','I Am Jonas']\n",
        "\n",
        "tf1_comment = tf_vector.transform(comment)\n",
        "\n",
        "classifier.predict(tf1_comment)"
      ]
    },
    {
      "cell_type": "markdown",
      "metadata": {
        "id": "fyNnVvT98MBq"
      },
      "source": [
        "Confusion Matrix"
      ]
    },
    {
      "cell_type": "code",
      "execution_count": 75,
      "metadata": {
        "colab": {
          "base_uri": "https://localhost:8080/"
        },
        "id": "tYqqOi_P8NOL",
        "outputId": "ac101ce2-0ef8-4b75-8826-7b1c4bdc31fb"
      },
      "outputs": [
        {
          "name": "stdout",
          "output_type": "stream",
          "text": [
            "              precision    recall  f1-score   support\n",
            "\n",
            "           0       0.87      0.90      0.88      3646\n",
            "           1       0.92      0.94      0.93      3722\n",
            "           2       0.89      0.85      0.87      3672\n",
            "\n",
            "    accuracy                           0.90     11040\n",
            "   macro avg       0.89      0.89      0.89     11040\n",
            "weighted avg       0.90      0.90      0.89     11040\n",
            "\n"
          ]
        }
      ],
      "source": [
        "print(classification_report(y_test,pred))"
      ]
    },
    {
      "cell_type": "code",
      "execution_count": 76,
      "metadata": {
        "colab": {
          "base_uri": "https://localhost:8080/",
          "height": 294
        },
        "id": "qPGbZEX9hILO",
        "outputId": "02b4a675-6579-4d53-892b-e636bf9e34a5"
      },
      "outputs": [
        {
          "data": {
            "text/plain": [
              "<Axes: >"
            ]
          },
          "execution_count": 76,
          "metadata": {},
          "output_type": "execute_result"
        },
        {
          "data": {
            "image/png": "[encoded data removed]",
            "text/plain": [
              "<Figure size 640x480 with 2 Axes>"
            ]
          },
          "metadata": {},
          "output_type": "display_data"
        }
      ],
      "source": [
        "conf_m = confusion_matrix(y_test, pred)\n",
        "sns.heatmap(conf_m, linewidths=1, annot=True, fmt='g')"
      ]
    },
    {
      "cell_type": "markdown",
      "metadata": {
        "id": "xEvqRhoO-SG7"
      },
      "source": [
        "Logistic Regression"
      ]
    },
    {
      "cell_type": "code",
      "execution_count": 77,
      "metadata": {
        "colab": {
          "base_uri": "https://localhost:8080/"
        },
        "id": "Dgg9B118-eC0",
        "outputId": "02228f7b-566e-443c-ccae-37e93aaf0744"
      },
      "outputs": [
        {
          "data": {
            "text/plain": [
              "0.8884963768115942"
            ]
          },
          "execution_count": 77,
          "metadata": {},
          "output_type": "execute_result"
        }
      ],
      "source": [
        "from sklearn.linear_model import LogisticRegression\n",
        " \n",
        "model=LogisticRegression()\n",
        " \n",
        "#Model fitting\n",
        "model.fit(X_train,y_train)\n",
        " \n",
        "#testing the model\n",
        "model.score(X_test,y_test)"
      ]
    },
    {
      "cell_type": "code",
      "execution_count": 78,
      "metadata": {
        "id": "TRUn6r03_RH0"
      },
      "outputs": [],
      "source": [
        "pred = model.predict(X_test)"
      ]
    },
    {
      "cell_type": "code",
      "execution_count": 79,
      "metadata": {
        "colab": {
          "base_uri": "https://localhost:8080/"
        },
        "id": "tSgTbjtwB3bc",
        "outputId": "80934856-5ffd-48f8-a886-4837dff1977c"
      },
      "outputs": [
        {
          "data": {
            "text/plain": [
              "array([0, 2, 1])"
            ]
          },
          "execution_count": 79,
          "metadata": {},
          "output_type": "execute_result"
        }
      ],
      "source": [
        "comment=['it is bad product','this product is good for me and I am satisfied with this product','i am minhaj']\n",
        "\n",
        "tf1_comment = tf_vector.transform(comment)\n",
        "\n",
        "model.predict(tf1_comment)"
      ]
    },
    {
      "cell_type": "markdown",
      "metadata": {
        "id": "5ltcL9YOCsFq"
      },
      "source": [
        "Confusion Matrix"
      ]
    },
    {
      "cell_type": "code",
      "execution_count": 80,
      "metadata": {
        "colab": {
          "base_uri": "https://localhost:8080/"
        },
        "id": "ZKIgrpS-DQ83",
        "outputId": "1120f766-e43e-4116-e9d8-af09f321074f"
      },
      "outputs": [
        {
          "name": "stdout",
          "output_type": "stream",
          "text": [
            "              precision    recall  f1-score   support\n",
            "\n",
            "           0       0.89      0.86      0.88      3646\n",
            "           1       0.85      0.95      0.90      3722\n",
            "           2       0.93      0.85      0.89      3672\n",
            "\n",
            "    accuracy                           0.89     11040\n",
            "   macro avg       0.89      0.89      0.89     11040\n",
            "weighted avg       0.89      0.89      0.89     11040\n",
            "\n"
          ]
        }
      ],
      "source": [
        "print(classification_report(y_test,pred))"
      ]
    },
    {
      "cell_type": "code",
      "execution_count": 81,
      "metadata": {
        "colab": {
          "base_uri": "https://localhost:8080/",
          "height": 292
        },
        "id": "dWmfc-HMhVdK",
        "outputId": "e3e24036-6423-4cd0-8977-01599026da17"
      },
      "outputs": [
        {
          "data": {
            "text/plain": [
              "<Axes: >"
            ]
          },
          "execution_count": 81,
          "metadata": {},
          "output_type": "execute_result"
        },
        {
          "data": {
            "image/png": "[encoded data removed]",
            "text/plain": [
              "<Figure size 640x480 with 2 Axes>"
            ]
          },
          "metadata": {},
          "output_type": "display_data"
        }
      ],
      "source": [
        "conf_m = confusion_matrix(y_test, pred)\n",
        "sns.heatmap(conf_m, linewidths=1, annot=True, fmt='g')"
      ]
    },
    {
      "cell_type": "markdown",
      "metadata": {
        "id": "OTlb4FYUpdhd"
      },
      "source": [
        "Multinomial Naive Bayes"
      ]
    },
    {
      "cell_type": "code",
      "execution_count": 82,
      "metadata": {
        "id": "aTMjcq3kFK1C"
      },
      "outputs": [],
      "source": [
        "from sklearn.naive_bayes import MultinomialNB"
      ]
    },
    {
      "cell_type": "code",
      "execution_count": 83,
      "metadata": {
        "colab": {
          "base_uri": "https://localhost:8080/"
        },
        "id": "lrh7FyxZFYOs",
        "outputId": "eb89475b-2b27-4d98-8d99-eaafd6cf066e"
      },
      "outputs": [
        {
          "data": {
            "text/plain": [
              "0.7958333333333333"
            ]
          },
          "execution_count": 83,
          "metadata": {},
          "output_type": "execute_result"
        }
      ],
      "source": [
        "model = MultinomialNB()\n",
        "model.fit(X_train, y_train)\n",
        "model.score(X_test,y_test)"
      ]
    },
    {
      "cell_type": "code",
      "execution_count": 84,
      "metadata": {
        "id": "ra7FHXqfe8N-"
      },
      "outputs": [],
      "source": [
        "import seaborn as sns"
      ]
    },
    {
      "cell_type": "code",
      "execution_count": 85,
      "metadata": {
        "id": "bVhZ_ET8bfvW"
      },
      "outputs": [],
      "source": [
        "pred = model.predict(X_test)"
      ]
    },
    {
      "cell_type": "code",
      "execution_count": 86,
      "metadata": {
        "colab": {
          "base_uri": "https://localhost:8080/"
        },
        "id": "NV0hrr1u7GKs",
        "outputId": "4ea15663-cad5-46c2-9b45-2e769e423751"
      },
      "outputs": [
        {
          "data": {
            "text/plain": [
              "array([0, 2, 1])"
            ]
          },
          "execution_count": 86,
          "metadata": {},
          "output_type": "execute_result"
        }
      ],
      "source": [
        "comment=['Bad qualilty..... material qualilty is very poor',\n",
        "         'Best service ever. On time, products as promised. Great quality.',\n",
        "         'I buy this product from bangladesh']\n",
        "tf1_comment = tf_vector.transform(comment)\n",
        "model.predict(tf1_comment)"
      ]
    },
    {
      "cell_type": "markdown",
      "metadata": {
        "id": "nvzUnoDCo704"
      },
      "source": [
        "Confusion Matrix"
      ]
    },
    {
      "cell_type": "code",
      "execution_count": 87,
      "metadata": {
        "colab": {
          "base_uri": "https://localhost:8080/"
        },
        "id": "dw5KL1DBldwx",
        "outputId": "c478b22a-1f83-46b6-ee84-bdc99ad07c7a"
      },
      "outputs": [
        {
          "name": "stdout",
          "output_type": "stream",
          "text": [
            "\n",
            "Classification Report\n",
            "\n",
            "              precision    recall  f1-score   support\n",
            "\n",
            "           0       0.78      0.88      0.82      3646\n",
            "           1       0.91      0.65      0.76      3722\n",
            "           2       0.74      0.86      0.80      3672\n",
            "\n",
            "    accuracy                           0.80     11040\n",
            "   macro avg       0.81      0.80      0.79     11040\n",
            "weighted avg       0.81      0.80      0.79     11040\n",
            "\n"
          ]
        }
      ],
      "source": [
        "from sklearn.metrics import classification_report\n",
        "print('\\nClassification Report\\n')\n",
        "print(classification_report(y_test, pred))"
      ]
    },
    {
      "cell_type": "code",
      "execution_count": 88,
      "metadata": {
        "colab": {
          "base_uri": "https://localhost:8080/",
          "height": 290
        },
        "id": "lZUxH4BIk3dC",
        "outputId": "afa8d065-0afc-4118-c002-5d51f37d7438"
      },
      "outputs": [
        {
          "data": {
            "text/plain": [
              "<Axes: >"
            ]
          },
          "execution_count": 88,
          "metadata": {},
          "output_type": "execute_result"
        },
        {
          "data": {
            "image/png": "[encoded data removed]",
            "text/plain": [
              "<Figure size 640x480 with 2 Axes>"
            ]
          },
          "metadata": {},
          "output_type": "display_data"
        }
      ],
      "source": [
        "conf_m = confusion_matrix(y_test, pred)\n",
        "sns.heatmap(conf_m, linewidths=1, annot=True, fmt='g')"
      ]
    },
    {
      "cell_type": "markdown",
      "metadata": {
        "id": "PQGPNTERPyPR"
      },
      "source": [
        "K-Nearest Neighbors Classifier"
      ]
    },
    {
      "cell_type": "code",
      "execution_count": 89,
      "metadata": {
        "colab": {
          "base_uri": "https://localhost:8080/"
        },
        "id": "pskJ0g4aeA05",
        "outputId": "f96a5101-cfee-4b86-9a7a-2fec6835f7f3"
      },
      "outputs": [
        {
          "data": {
            "text/plain": [
              "0.6158514492753623"
            ]
          },
          "execution_count": 89,
          "metadata": {},
          "output_type": "execute_result"
        }
      ],
      "source": [
        "from sklearn.neighbors import KNeighborsClassifier\n",
        "knn=KNeighborsClassifier()\n",
        "#Model fitting\n",
        "knn.fit(X_train,y_train)\n",
        " \n",
        "#testing the model\n",
        "knn.score(X_test,y_test)"
      ]
    },
    {
      "cell_type": "code",
      "execution_count": 90,
      "metadata": {
        "id": "eEGFjvLx0MtF"
      },
      "outputs": [],
      "source": [
        "pred = knn.predict(X_test)"
      ]
    },
    {
      "cell_type": "code",
      "execution_count": null,
      "metadata": {
        "colab": {
          "base_uri": "https://localhost:8080/"
        },
        "id": "lkODzyMf04zc",
        "outputId": "6e20af8b-bf67-4a52-bf71-cdf056751366"
      },
      "outputs": [
        {
          "data": {
            "text/plain": [
              "array([1, 2, 1])"
            ]
          },
          "execution_count": 91,
          "metadata": {},
          "output_type": "execute_result"
        }
      ],
      "source": [
        "comment=['this product is poor for me and I am not satisfied with this product',\n",
        "         'Product is very good, fit is good','where the product is produced']\n",
        "\n",
        "tf1_comment = tf_vector.transform(comment)\n",
        "\n",
        "knn.predict(tf1_comment)"
      ]
    },
    {
      "cell_type": "markdown",
      "metadata": {
        "id": "kbU5qNE90rcz"
      },
      "source": [
        "Confusion Matrix"
      ]
    },
    {
      "cell_type": "code",
      "execution_count": null,
      "metadata": {
        "colab": {
          "base_uri": "https://localhost:8080/"
        },
        "id": "5DrviJnE0z2d",
        "outputId": "7bc41492-3c7e-444e-92a6-0a2ed5a1c1b6"
      },
      "outputs": [
        {
          "name": "stdout",
          "output_type": "stream",
          "text": [
            "              precision    recall  f1-score   support\n",
            "\n",
            "           0       0.76      0.81      0.79      3646\n",
            "           1       0.52      0.95      0.67      3722\n",
            "           2       0.94      0.08      0.15      3672\n",
            "\n",
            "    accuracy                           0.62     11040\n",
            "   macro avg       0.74      0.61      0.53     11040\n",
            "weighted avg       0.74      0.62      0.53     11040\n",
            "\n"
          ]
        }
      ],
      "source": [
        "print(classification_report(y_test,pred))"
      ]
    },
    {
      "cell_type": "code",
      "execution_count": 93,
      "metadata": {
        "colab": {
          "base_uri": "https://localhost:8080/",
          "height": 290
        },
        "id": "HArWLj3uhvc5",
        "outputId": "3865f206-2fd1-4950-ca7a-413ab3e3a9c0"
      },
      "outputs": [
        {
          "data": {
            "text/plain": [
              "<Axes: >"
            ]
          },
          "execution_count": 93,
          "metadata": {},
          "output_type": "execute_result"
        },
        {
          "data": {
            "image/png": "[encoded data removed]",
            "text/plain": [
              "<Figure size 640x480 with 2 Axes>"
            ]
          },
          "metadata": {},
          "output_type": "display_data"
        }
      ],
      "source": [
        "conf_m = confusion_matrix(y_test, pred)\n",
        "sns.heatmap(conf_m, linewidths=1, annot=True, fmt='g')"
      ]
    },
    {
      "cell_type": "markdown",
      "metadata": {
        "id": "UpJPhp4mKshk"
      },
      "source": [
        "Algorithm For Count Vectorizer"
      ]
    },
    {
      "cell_type": "markdown",
      "metadata": {
        "id": "bNg6Rg0fLjd3"
      },
      "source": [
        "over_sampling"
      ]
    },
    {
      "cell_type": "code",
      "execution_count": 94,
      "metadata": {
        "colab": {
          "base_uri": "https://localhost:8080/"
        },
        "id": "CH8CJxt6JySW",
        "outputId": "bd3ae150-e3ff-4e79-fca5-25a408ae73eb"
      },
      "outputs": [
        {
          "name": "stdout",
          "output_type": "stream",
          "text": [
            "[(np.int64(0), 18400), (np.int64(1), 18400), (np.int64(2), 18400)]\n"
          ]
        }
      ],
      "source": [
        "from imblearn.over_sampling import SMOTE, ADASYN\n",
        "import collections\n",
        "x_resampled, y_resampled = SMOTE().fit_resample(vector_test,y)\n",
        "print(sorted(collections.Counter(y_resampled).items()))"
      ]
    },
    {
      "cell_type": "code",
      "execution_count": 95,
      "metadata": {
        "id": "n_SkShR4Lxlu"
      },
      "outputs": [],
      "source": [
        "from sklearn.model_selection import train_test_split\n",
        " \n",
        "X_train, X_test, y_train, y_test = train_test_split(x_resampled, y_resampled, train_size=0.80, shuffle=True, random_state=95)"
      ]
    },
    {
      "cell_type": "markdown",
      "metadata": {
        "id": "xulBO8F_MSoq"
      },
      "source": [
        "Random Forest Classifier"
      ]
    },
    {
      "cell_type": "code",
      "execution_count": 96,
      "metadata": {
        "colab": {
          "base_uri": "https://localhost:8080/"
        },
        "id": "jRnWoI6nL_i-",
        "outputId": "e2947698-c2f9-457e-d52a-a646bf4164a3"
      },
      "outputs": [
        {
          "data": {
            "text/plain": [
              "0.831340579710145"
            ]
          },
          "execution_count": 96,
          "metadata": {},
          "output_type": "execute_result"
        }
      ],
      "source": [
        "from sklearn.ensemble import RandomForestClassifier\n",
        "rf = RandomForestClassifier()\n",
        "#Model fitting\n",
        "rf.fit(X_train,y_train)\n",
        " \n",
        "#testing the model\n",
        "rf.score(X_test,y_test)"
      ]
    },
    {
      "cell_type": "code",
      "execution_count": 97,
      "metadata": {
        "id": "MVlfnru6NRjE"
      },
      "outputs": [],
      "source": [
        "pred = rf.predict(X_test) "
      ]
    },
    {
      "cell_type": "code",
      "execution_count": 98,
      "metadata": {
        "colab": {
          "base_uri": "https://localhost:8080/"
        },
        "id": "DquhKTfKNZ90",
        "outputId": "7cf8f55d-0500-4e74-d936-c0a0f0db5194"
      },
      "outputs": [
        {
          "name": "stdout",
          "output_type": "stream",
          "text": [
            "positive\n"
          ]
        }
      ],
      "source": [
        "# comment=['Bad qualilty..... material qualilty is very poor',\n",
        "#          'Best service ever. On time, products as promised. Great quality.',\n",
        "#          'I buy this product from bangladesh']\n",
        "comment = ['Best service ever. On time, products as promised. Great quality.']\n",
        "tf1_comment = vectorizer.transform(comment)\n",
        "result = rf.predict(tf1_comment)\n",
        "if result[0] == 1:\n",
        "  print('neutral')\n",
        "elif result[0] == 0:\n",
        "  print('negative')\n",
        "else:\n",
        "  print('positive')"
      ]
    },
    {
      "cell_type": "markdown",
      "metadata": {
        "id": "3-KsaEv_Nyx8"
      },
      "source": [
        "Confusion Matrix"
      ]
    },
    {
      "cell_type": "code",
      "execution_count": 99,
      "metadata": {
        "colab": {
          "base_uri": "https://localhost:8080/"
        },
        "id": "Txvs1iByN4W2",
        "outputId": "b07c21d3-5396-4ac6-ac71-ff27410514c3"
      },
      "outputs": [
        {
          "name": "stdout",
          "output_type": "stream",
          "text": [
            "              precision    recall  f1-score   support\n",
            "\n",
            "           0       0.82      0.73      0.77      3646\n",
            "           1       0.80      0.89      0.84      3722\n",
            "           2       0.89      0.88      0.88      3672\n",
            "\n",
            "    accuracy                           0.83     11040\n",
            "   macro avg       0.83      0.83      0.83     11040\n",
            "weighted avg       0.83      0.83      0.83     11040\n",
            "\n"
          ]
        }
      ],
      "source": [
        "print(classification_report(y_test,pred))"
      ]
    },
    {
      "cell_type": "code",
      "execution_count": 100,
      "metadata": {
        "colab": {
          "base_uri": "https://localhost:8080/",
          "height": 290
        },
        "id": "7uSSfnTtOD7U",
        "outputId": "b5144e54-0dc1-4565-8532-2e6ef50f96dd"
      },
      "outputs": [
        {
          "data": {
            "text/plain": [
              "<Axes: >"
            ]
          },
          "execution_count": 100,
          "metadata": {},
          "output_type": "execute_result"
        },
        {
          "data": {
            "image/png": "[encoded data removed]",
            "text/plain": [
              "<Figure size 640x480 with 2 Axes>"
            ]
          },
          "metadata": {},
          "output_type": "display_data"
        }
      ],
      "source": [
        "conf_m = confusion_matrix(y_test, pred)\n",
        "sns.heatmap(conf_m, linewidths=1, annot=True, fmt='g')"
      ]
    },
    {
      "cell_type": "markdown",
      "metadata": {
        "id": "CmLmpE_gOQ1g"
      },
      "source": [
        "Support Vector Machine"
      ]
    },
    {
      "cell_type": "code",
      "execution_count": 101,
      "metadata": {
        "id": "VkNfyejOOV-b"
      },
      "outputs": [],
      "source": [
        "from sklearn.svm import SVC"
      ]
    },
    {
      "cell_type": "code",
      "execution_count": 102,
      "metadata": {
        "id": "b72GCrw4OZzk"
      },
      "outputs": [],
      "source": [
        "model_svm = SVC()"
      ]
    },
    {
      "cell_type": "code",
      "execution_count": 103,
      "metadata": {
        "colab": {
          "base_uri": "https://localhost:8080/"
        },
        "id": "KOzfD7HDOi_X",
        "outputId": "8a3a464f-b3c7-4437-ff55-3475384090ab"
      },
      "outputs": [
        {
          "data": {
            "text/plain": [
              "0.8236413043478261"
            ]
          },
          "execution_count": 103,
          "metadata": {},
          "output_type": "execute_result"
        }
      ],
      "source": [
        "model_svm.fit(X_train,y_train)\n",
        "model_svm.score(X_test,y_test)"
      ]
    },
    {
      "cell_type": "code",
      "execution_count": 104,
      "metadata": {
        "id": "x_WhS-oeOqMX"
      },
      "outputs": [],
      "source": [
        "pred = model_svm.predict(X_test)"
      ]
    },
    {
      "cell_type": "code",
      "execution_count": 105,
      "metadata": {
        "colab": {
          "base_uri": "https://localhost:8080/"
        },
        "id": "gp-aIL_JOweO",
        "outputId": "84c4348d-d2be-4306-891a-9c984454ebad"
      },
      "outputs": [
        {
          "data": {
            "text/plain": [
              "array([0, 2, 1])"
            ]
          },
          "execution_count": 105,
          "metadata": {},
          "output_type": "execute_result"
        }
      ],
      "source": [
        "comment=['this product is poor','Product is very good, fit is good','where the product is produced']\n",
        "vect_comment = vectorizer.transform(comment)\n",
        "model_svm.predict(vect_comment)"
      ]
    },
    {
      "cell_type": "markdown",
      "metadata": {
        "id": "ICCuR0h3PW1x"
      },
      "source": [
        "Confusion Matrix"
      ]
    },
    {
      "cell_type": "code",
      "execution_count": 106,
      "metadata": {
        "colab": {
          "base_uri": "https://localhost:8080/"
        },
        "id": "OEYLulVxPV8E",
        "outputId": "9a6a7d67-623e-4e84-b208-2a0dbe1d048f"
      },
      "outputs": [
        {
          "name": "stdout",
          "output_type": "stream",
          "text": [
            "              precision    recall  f1-score   support\n",
            "\n",
            "           0       0.90      0.61      0.73      3646\n",
            "           1       0.77      0.93      0.84      3722\n",
            "           2       0.84      0.93      0.88      3672\n",
            "\n",
            "    accuracy                           0.82     11040\n",
            "   macro avg       0.83      0.82      0.82     11040\n",
            "weighted avg       0.83      0.82      0.82     11040\n",
            "\n"
          ]
        }
      ],
      "source": [
        "print(classification_report(y_test,pred))"
      ]
    },
    {
      "cell_type": "code",
      "execution_count": 107,
      "metadata": {
        "colab": {
          "base_uri": "https://localhost:8080/",
          "height": 290
        },
        "id": "mt4oIruAPkcd",
        "outputId": "1a46d26c-9eb3-43b6-a476-256fac57e1fc"
      },
      "outputs": [
        {
          "data": {
            "text/plain": [
              "<Axes: >"
            ]
          },
          "execution_count": 107,
          "metadata": {},
          "output_type": "execute_result"
        },
        {
          "data": {
            "image/png": "[encoded data removed]",
            "text/plain": [
              "<Figure size 640x480 with 2 Axes>"
            ]
          },
          "metadata": {},
          "output_type": "display_data"
        }
      ],
      "source": [
        "conf_m = confusion_matrix(y_test, pred)\n",
        "sns.heatmap(conf_m, linewidths=1, annot=True, fmt='g')"
      ]
    },
    {
      "cell_type": "markdown",
      "metadata": {
        "id": "807j1ijKPqFl"
      },
      "source": [
        "Decision Tree Classifier"
      ]
    },
    {
      "cell_type": "code",
      "execution_count": 108,
      "metadata": {
        "id": "o6edBADyPrwA"
      },
      "outputs": [],
      "source": [
        "from sklearn.tree import DecisionTreeClassifier"
      ]
    },
    {
      "cell_type": "code",
      "execution_count": 109,
      "metadata": {
        "colab": {
          "base_uri": "https://localhost:8080/"
        },
        "id": "B5LFoUlcP48w",
        "outputId": "f307d583-b46d-4b01-8211-2cd649c2cefa"
      },
      "outputs": [
        {
          "data": {
            "text/plain": [
              "0.7972826086956522"
            ]
          },
          "execution_count": 109,
          "metadata": {},
          "output_type": "execute_result"
        }
      ],
      "source": [
        "classifier = DecisionTreeClassifier()\n",
        "classifier.fit(X_train, y_train)\n",
        "classifier.score(X_test,y_test)"
      ]
    },
    {
      "cell_type": "code",
      "execution_count": 110,
      "metadata": {
        "id": "OnattzqEP6Me"
      },
      "outputs": [],
      "source": [
        "pred = classifier.predict(X_test)"
      ]
    },
    {
      "cell_type": "markdown",
      "metadata": {
        "id": "Xj0eZqEcQDtF"
      },
      "source": [
        "Confusion Matrix"
      ]
    },
    {
      "cell_type": "code",
      "execution_count": 111,
      "metadata": {
        "colab": {
          "base_uri": "https://localhost:8080/"
        },
        "id": "H45K0_sPQH4G",
        "outputId": "22918ede-98a7-442d-b242-f056e055ccc3"
      },
      "outputs": [
        {
          "name": "stdout",
          "output_type": "stream",
          "text": [
            "              precision    recall  f1-score   support\n",
            "\n",
            "           0       0.74      0.74      0.74      3646\n",
            "           1       0.78      0.86      0.82      3722\n",
            "           2       0.89      0.78      0.83      3672\n",
            "\n",
            "    accuracy                           0.80     11040\n",
            "   macro avg       0.80      0.80      0.80     11040\n",
            "weighted avg       0.80      0.80      0.80     11040\n",
            "\n"
          ]
        }
      ],
      "source": [
        "print(classification_report(y_test,pred))"
      ]
    },
    {
      "cell_type": "code",
      "execution_count": 112,
      "metadata": {
        "colab": {
          "base_uri": "https://localhost:8080/",
          "height": 290
        },
        "id": "t8jGB1TAQNGv",
        "outputId": "27ec7e5f-95c9-4b79-f999-45968829343f"
      },
      "outputs": [
        {
          "data": {
            "text/plain": [
              "<Axes: >"
            ]
          },
          "execution_count": 112,
          "metadata": {},
          "output_type": "execute_result"
        },
        {
          "data": {
            "image/png": "[encoded data removed]",
            "text/plain": [
              "<Figure size 640x480 with 2 Axes>"
            ]
          },
          "metadata": {},
          "output_type": "display_data"
        }
      ],
      "source": [
        "conf_m = confusion_matrix(y_test, pred)\n",
        "sns.heatmap(conf_m, linewidths=1, annot=True, fmt='g')"
      ]
    },
    {
      "cell_type": "markdown",
      "metadata": {
        "id": "AWi-TMFUQU1e"
      },
      "source": [
        "Logistic Regression"
      ]
    },
    {
      "cell_type": "code",
      "execution_count": 113,
      "metadata": {
        "colab": {
          "base_uri": "https://localhost:8080/"
        },
        "id": "PKZb7hxDQORG",
        "outputId": "e7bb4345-6cd1-40f5-a6a5-15d267b14142"
      },
      "outputs": [
        {
          "name": "stderr",
          "output_type": "stream",
          "text": [
            "C:\\Users\\DELL\\AppData\\Roaming\\Python\\Python311\\site-packages\\sklearn\\linear_model\\_logistic.py:465: ConvergenceWarning: lbfgs failed to converge (status=1):\n",
            "STOP: TOTAL NO. of ITERATIONS REACHED LIMIT.\n",
            "\n",
            "Increase the number of iterations (max_iter) or scale the data as shown in:\n",
            "    https://scikit-learn.org/stable/modules/preprocessing.html\n",
            "Please also refer to the documentation for alternative solver options:\n",
            "    https://scikit-learn.org/stable/modules/linear_model.html#logistic-regression\n",
            "  n_iter_i = _check_optimize_result(\n"
          ]
        },
        {
          "data": {
            "text/plain": [
              "0.8343297101449275"
            ]
          },
          "execution_count": 113,
          "metadata": {},
          "output_type": "execute_result"
        }
      ],
      "source": [
        "from sklearn.linear_model import LogisticRegression\n",
        " \n",
        "model=LogisticRegression()\n",
        " \n",
        "#Model fitting\n",
        "model.fit(X_train,y_train)\n",
        " \n",
        "#testing the model\n",
        "model.score(X_test,y_test)"
      ]
    },
    {
      "cell_type": "code",
      "execution_count": 114,
      "metadata": {
        "id": "ik0ExDT8QeYG"
      },
      "outputs": [],
      "source": [
        "pred = model.predict(X_test)"
      ]
    },
    {
      "cell_type": "markdown",
      "metadata": {
        "id": "I-O2mvMMQpF9"
      },
      "source": [
        "Confusion Matrix"
      ]
    },
    {
      "cell_type": "code",
      "execution_count": 115,
      "metadata": {
        "colab": {
          "base_uri": "https://localhost:8080/"
        },
        "id": "cAoB_dMEQsbu",
        "outputId": "fb7ed7d8-5bb7-4ad8-a049-a172980ec088"
      },
      "outputs": [
        {
          "name": "stdout",
          "output_type": "stream",
          "text": [
            "              precision    recall  f1-score   support\n",
            "\n",
            "           0       0.84      0.70      0.76      3646\n",
            "           1       0.76      0.93      0.83      3722\n",
            "           2       0.93      0.88      0.90      3672\n",
            "\n",
            "    accuracy                           0.83     11040\n",
            "   macro avg       0.84      0.83      0.83     11040\n",
            "weighted avg       0.84      0.83      0.83     11040\n",
            "\n"
          ]
        }
      ],
      "source": [
        "print(classification_report(y_test,pred))"
      ]
    },
    {
      "cell_type": "code",
      "execution_count": 116,
      "metadata": {
        "colab": {
          "base_uri": "https://localhost:8080/",
          "height": 290
        },
        "id": "jfwiYs8UQvrm",
        "outputId": "4b698e52-134b-4880-d9bc-b4d9e8429b39"
      },
      "outputs": [
        {
          "data": {
            "text/plain": [
              "<Axes: >"
            ]
          },
          "execution_count": 116,
          "metadata": {},
          "output_type": "execute_result"
        },
        {
          "data": {
            "image/png": "[encoded data removed]",
            "text/plain": [
              "<Figure size 640x480 with 2 Axes>"
            ]
          },
          "metadata": {},
          "output_type": "display_data"
        }
      ],
      "source": [
        "conf_m = confusion_matrix(y_test, pred)\n",
        "sns.heatmap(conf_m, linewidths=1, annot=True, fmt='g')"
      ]
    },
    {
      "cell_type": "markdown",
      "metadata": {
        "id": "wVyfbnHcQ0bn"
      },
      "source": [
        "Multinomial Naive Bayes"
      ]
    },
    {
      "cell_type": "code",
      "execution_count": 117,
      "metadata": {
        "id": "6yWmg1d5Q4HR"
      },
      "outputs": [],
      "source": [
        "from sklearn.naive_bayes import MultinomialNB"
      ]
    },
    {
      "cell_type": "code",
      "execution_count": 118,
      "metadata": {
        "colab": {
          "base_uri": "https://localhost:8080/"
        },
        "id": "fcPAVf2SQ8ps",
        "outputId": "072bd425-6b79-460e-a5ab-7c6126bec357"
      },
      "outputs": [
        {
          "data": {
            "text/plain": [
              "0.7230072463768116"
            ]
          },
          "execution_count": 118,
          "metadata": {},
          "output_type": "execute_result"
        }
      ],
      "source": [
        "model = MultinomialNB()\n",
        "model.fit(X_train, y_train)\n",
        "model.score(X_test,y_test)"
      ]
    },
    {
      "cell_type": "code",
      "execution_count": 119,
      "metadata": {
        "id": "PIDxzcTRRAKo"
      },
      "outputs": [],
      "source": [
        "pred = model.predict(X_test)"
      ]
    },
    {
      "cell_type": "markdown",
      "metadata": {
        "id": "E48f5qXGRGYg"
      },
      "source": [
        "Confusion Matrix"
      ]
    },
    {
      "cell_type": "code",
      "execution_count": null,
      "metadata": {
        "colab": {
          "base_uri": "https://localhost:8080/"
        },
        "id": "Zvc3m2EsREuI",
        "outputId": "f338bbc4-8457-4057-e199-a6f9e8461548"
      },
      "outputs": [
        {
          "name": "stdout",
          "output_type": "stream",
          "text": [
            "              precision    recall  f1-score   support\n",
            "\n",
            "           0       0.67      0.75      0.71      3646\n",
            "           1       0.81      0.53      0.64      3722\n",
            "           2       0.72      0.89      0.80      3672\n",
            "\n",
            "    accuracy                           0.72     11040\n",
            "   macro avg       0.74      0.72      0.72     11040\n",
            "weighted avg       0.74      0.72      0.72     11040\n",
            "\n"
          ]
        }
      ],
      "source": [
        "print(classification_report(y_test, pred))"
      ]
    },
    {
      "cell_type": "code",
      "execution_count": 121,
      "metadata": {
        "colab": {
          "base_uri": "https://localhost:8080/",
          "height": 290
        },
        "id": "6CKBh9vxRSqN",
        "outputId": "ac12e8ae-e85c-4d57-f8e0-7096163bfb6d"
      },
      "outputs": [
        {
          "data": {
            "text/plain": [
              "<Axes: >"
            ]
          },
          "execution_count": 121,
          "metadata": {},
          "output_type": "execute_result"
        },
        {
          "data": {
            "image/png": "[encoded data removed]",
            "text/plain": [
              "<Figure size 640x480 with 2 Axes>"
            ]
          },
          "metadata": {},
          "output_type": "display_data"
        }
      ],
      "source": [
        "conf_m = confusion_matrix(y_test, pred)\n",
        "sns.heatmap(conf_m, linewidths=1, annot=True, fmt='g')"
      ]
    },
    {
      "cell_type": "markdown",
      "metadata": {
        "id": "mytq1_x5Rotq"
      },
      "source": [
        "K-Nearest Neighbors Classifier"
      ]
    },
    {
      "cell_type": "code",
      "execution_count": 122,
      "metadata": {
        "colab": {
          "base_uri": "https://localhost:8080/"
        },
        "id": "NISrRBIQRsLt",
        "outputId": "3a750b29-cf09-49a1-f842-29e414b2d6e7"
      },
      "outputs": [
        {
          "data": {
            "text/plain": [
              "0.6098731884057971"
            ]
          },
          "execution_count": 122,
          "metadata": {},
          "output_type": "execute_result"
        }
      ],
      "source": [
        "from sklearn.neighbors import KNeighborsClassifier\n",
        "knn=KNeighborsClassifier()\n",
        "#Model fitting\n",
        "knn.fit(X_train,y_train)\n",
        " \n",
        "#testing the model\n",
        "knn.score(X_test,y_test)"
      ]
    },
    {
      "cell_type": "code",
      "execution_count": 123,
      "metadata": {
        "id": "v62Wo0_eRvCe"
      },
      "outputs": [],
      "source": [
        "pred = knn.predict(X_test)"
      ]
    },
    {
      "cell_type": "markdown",
      "metadata": {
        "id": "MFfEIQNFRzxd"
      },
      "source": [
        "Confusion Matrix"
      ]
    },
    {
      "cell_type": "code",
      "execution_count": null,
      "metadata": {
        "colab": {
          "base_uri": "https://localhost:8080/"
        },
        "id": "-qR76m41R3cv",
        "outputId": "f5af1077-1158-4bf5-b5ac-55c6fd904268"
      },
      "outputs": [
        {
          "name": "stdout",
          "output_type": "stream",
          "text": [
            "              precision    recall  f1-score   support\n",
            "\n",
            "           0       0.59      0.71      0.64      3646\n",
            "           1       0.57      0.86      0.69      3722\n",
            "           2       0.97      0.25      0.40      3672\n",
            "\n",
            "    accuracy                           0.61     11040\n",
            "   macro avg       0.71      0.61      0.58     11040\n",
            "weighted avg       0.71      0.61      0.58     11040\n",
            "\n"
          ]
        }
      ],
      "source": [
        "print(classification_report(y_test,pred))"
      ]
    },
    {
      "cell_type": "code",
      "execution_count": 125,
      "metadata": {
        "colab": {
          "base_uri": "https://localhost:8080/",
          "height": 290
        },
        "id": "fn8DoAsER66G",
        "outputId": "2641995c-5085-4dd6-8118-e432b0f557e8"
      },
      "outputs": [
        {
          "data": {
            "text/plain": [
              "<Axes: >"
            ]
          },
          "execution_count": 125,
          "metadata": {},
          "output_type": "execute_result"
        },
        {
          "data": {
            "image/png": "[encoded data removed]",
            "text/plain": [
              "<Figure size 640x480 with 2 Axes>"
            ]
          },
          "metadata": {},
          "output_type": "display_data"
        }
      ],
      "source": [
        "conf_m = confusion_matrix(y_test, pred)\n",
        "sns.heatmap(conf_m, linewidths=1, annot=True, fmt='g')"
      ]
    }
  ],
  "metadata": {
    "accelerator": "GPU",
    "colab": {
      "provenance": []
    },
    "gpuClass": "standard",
    "kernelspec": {
      "display_name": "Python 3",
      "name": "python3"
    },
    "language_info": {
      "codemirror_mode": {
        "name": "ipython",
        "version": 3
      },
      "file_extension": ".py",
      "mimetype": "text/x-python",
      "name": "python",
      "nbconvert_exporter": "python",
      "pygments_lexer": "ipython3",
      "version": "3.11.4"
    }
  },
  "nbformat": 4,
  "nbformat_minor": 0
}
